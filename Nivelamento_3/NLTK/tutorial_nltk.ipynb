{
 "cells": [
  {
   "cell_type": "markdown",
   "id": "d1ea0653",
   "metadata": {},
   "source": [
    "# 1. Operações com strings"
   ]
  },
  {
   "cell_type": "code",
   "execution_count": 70,
   "id": "e6f171e6",
   "metadata": {},
   "outputs": [
    {
     "name": "stdout",
     "output_type": "stream",
     "text": [
      "AmorÓdio\n",
      "AmorAmor\n",
      "m\n",
      "ind\n",
      "False\n",
      "4\n",
      "Amor\n",
      "1\n",
      "['Ainda que eu falasse a ', ' dos anjos']\n",
      "AMOR\n",
      "amor\n"
     ]
    }
   ],
   "source": [
    "var1 = \"Amor\"\n",
    "var2 = \"Ódio\"\n",
    "var3 = \"Ainda que eu falasse a língua dos anjos\"\n",
    "\n",
    "print(var1 + var2)            # concatenação\n",
    "print(var1 * 2)               # repetição\n",
    "print(var1[1])                # fatiamento simples\n",
    "print(var3[1:4])              # fatiamento por faixa\n",
    "print('a' in var1)            # adesão\n",
    "print(len(var1))              # tamanho\n",
    "print(var1.replace('am','ia'))# substituição\n",
    "print(var1.count('r'))        # enumeração\n",
    "print(var3.split('língua'))   # divisão\n",
    "print(var1.upper())           # maiúsculo\n",
    "print(var1.lower())           # minúsculo"
   ]
  },
  {
   "cell_type": "markdown",
   "id": "7ba95794",
   "metadata": {},
   "source": [
    "# 2. Introdução a Expressões Regulares"
   ]
  },
  {
   "cell_type": "code",
   "execution_count": 71,
   "id": "ec430a2f",
   "metadata": {},
   "outputs": [
    {
     "name": "stdout",
     "output_type": "stream",
     "text": [
      "['bibliotecário', 'biblioteca']\n",
      "pessoa\n"
     ]
    }
   ],
   "source": [
    "import re\n",
    "\n",
    "texto = \"o bibliotecário abriu a biblioteca\"\n",
    "resultado = re.findall(r'biblio\\w*', texto)\n",
    "print(resultado)\n",
    "\n",
    "texto2 = \"uma pessoa boa\"\n",
    "match = re.search(r'pessoa', texto2)\n",
    "print(match.group(0))"
   ]
  },
  {
   "cell_type": "markdown",
   "id": "83b35897",
   "metadata": {},
   "source": [
    "# 3. Listas, split e join"
   ]
  },
  {
   "cell_type": "markdown",
   "id": "b86bc986",
   "metadata": {},
   "source": [
    "Demonstração de como quebrar uma string em tokens (via split ou regex) e unir listas de strings com join"
   ]
  },
  {
   "cell_type": "code",
   "execution_count": 72,
   "id": "4ee4c030",
   "metadata": {},
   "outputs": [
    {
     "name": "stdout",
     "output_type": "stream",
     "text": [
      "['Algum', 'tempo', 'hesitei', 'se', 'devia', 'abrir', 'estas', 'memórias.']\n",
      "['Algum', 'tempo', 'hesitei', 'se', 'devia', 'abrir', 'estas', 'memórias', '.']\n",
      "comida 7\n",
      "Viva pois a história\n",
      "Viva;pois;a;história\n"
     ]
    }
   ],
   "source": [
    "import re\n",
    "\n",
    "texto = \"Algum tempo hesitei se devia abrir estas memórias.\"\n",
    "tokens = re.split(r'[ \\t\\n]+', texto)\n",
    "print(tokens)\n",
    "\n",
    "# tokenização mais avançada\n",
    "tokens2 = re.findall(r\"\\w+(?:[-’]\\w+)*|’|[-.(]+|\\S\\w*\", texto)\n",
    "print(tokens2)\n",
    "\n",
    "lista = ['Casa', ',', 'comida', 'e', 'roupa', 'lavada', '.']\n",
    "print(lista[2], len(lista))\n",
    "\n",
    "bras = ['Viva', 'pois', 'a', 'história']\n",
    "print(' '.join(bras))\n",
    "print(';'.join(bras))"
   ]
  },
  {
   "cell_type": "markdown",
   "id": "da846de8",
   "metadata": {},
   "source": [
    "# 4. Instalando e importando o NLTK"
   ]
  },
  {
   "cell_type": "code",
   "execution_count": 73,
   "id": "451592ad",
   "metadata": {},
   "outputs": [
    {
     "name": "stdout",
     "output_type": "stream",
     "text": [
      "Requirement already satisfied: nltk in c:\\users\\elias\\appdata\\local\\programs\\python\\python312\\lib\\site-packages (3.8.1)\n",
      "Requirement already satisfied: click in c:\\users\\elias\\appdata\\local\\programs\\python\\python312\\lib\\site-packages (from nltk) (8.1.7)\n",
      "Requirement already satisfied: joblib in c:\\users\\elias\\appdata\\local\\programs\\python\\python312\\lib\\site-packages (from nltk) (1.4.2)\n",
      "Requirement already satisfied: regex>=2021.8.3 in c:\\users\\elias\\appdata\\local\\programs\\python\\python312\\lib\\site-packages (from nltk) (2024.5.15)\n",
      "Requirement already satisfied: tqdm in c:\\users\\elias\\appdata\\local\\programs\\python\\python312\\lib\\site-packages (from nltk) (4.66.4)\n",
      "Requirement already satisfied: colorama in c:\\users\\elias\\appdata\\local\\programs\\python\\python312\\lib\\site-packages (from click->nltk) (0.4.6)\n",
      "Note: you may need to restart the kernel to use updated packages.\n"
     ]
    },
    {
     "name": "stderr",
     "output_type": "stream",
     "text": [
      "\n",
      "[notice] A new release of pip is available: 25.0.1 -> 25.1.1\n",
      "[notice] To update, run: python.exe -m pip install --upgrade pip\n",
      "[nltk_data] Downloading collection 'all'\n",
      "[nltk_data]    | \n",
      "[nltk_data]    | Downloading package abc to\n",
      "[nltk_data]    |     C:\\Users\\elias\\AppData\\Roaming\\nltk_data...\n",
      "[nltk_data]    |   Package abc is already up-to-date!\n",
      "[nltk_data]    | Downloading package alpino to\n",
      "[nltk_data]    |     C:\\Users\\elias\\AppData\\Roaming\\nltk_data...\n",
      "[nltk_data]    |   Package alpino is already up-to-date!\n",
      "[nltk_data]    | Downloading package averaged_perceptron_tagger to\n",
      "[nltk_data]    |     C:\\Users\\elias\\AppData\\Roaming\\nltk_data...\n",
      "[nltk_data]    |   Package averaged_perceptron_tagger is already up-\n",
      "[nltk_data]    |       to-date!\n",
      "[nltk_data]    | Downloading package averaged_perceptron_tagger_eng to\n",
      "[nltk_data]    |     C:\\Users\\elias\\AppData\\Roaming\\nltk_data...\n",
      "[nltk_data]    |   Package averaged_perceptron_tagger_eng is already\n",
      "[nltk_data]    |       up-to-date!\n",
      "[nltk_data]    | Downloading package averaged_perceptron_tagger_ru to\n",
      "[nltk_data]    |     C:\\Users\\elias\\AppData\\Roaming\\nltk_data...\n",
      "[nltk_data]    |   Package averaged_perceptron_tagger_ru is already\n",
      "[nltk_data]    |       up-to-date!\n",
      "[nltk_data]    | Downloading package averaged_perceptron_tagger_rus to\n",
      "[nltk_data]    |     C:\\Users\\elias\\AppData\\Roaming\\nltk_data...\n",
      "[nltk_data]    |   Package averaged_perceptron_tagger_rus is already\n",
      "[nltk_data]    |       up-to-date!\n",
      "[nltk_data]    | Downloading package basque_grammars to\n",
      "[nltk_data]    |     C:\\Users\\elias\\AppData\\Roaming\\nltk_data...\n",
      "[nltk_data]    |   Package basque_grammars is already up-to-date!\n",
      "[nltk_data]    | Downloading package bcp47 to\n",
      "[nltk_data]    |     C:\\Users\\elias\\AppData\\Roaming\\nltk_data...\n",
      "[nltk_data]    |   Package bcp47 is already up-to-date!\n",
      "[nltk_data]    | Downloading package biocreative_ppi to\n",
      "[nltk_data]    |     C:\\Users\\elias\\AppData\\Roaming\\nltk_data...\n",
      "[nltk_data]    |   Package biocreative_ppi is already up-to-date!\n",
      "[nltk_data]    | Downloading package bllip_wsj_no_aux to\n",
      "[nltk_data]    |     C:\\Users\\elias\\AppData\\Roaming\\nltk_data...\n",
      "[nltk_data]    |   Package bllip_wsj_no_aux is already up-to-date!\n",
      "[nltk_data]    | Downloading package book_grammars to\n",
      "[nltk_data]    |     C:\\Users\\elias\\AppData\\Roaming\\nltk_data...\n",
      "[nltk_data]    |   Package book_grammars is already up-to-date!\n",
      "[nltk_data]    | Downloading package brown to\n",
      "[nltk_data]    |     C:\\Users\\elias\\AppData\\Roaming\\nltk_data...\n",
      "[nltk_data]    |   Package brown is already up-to-date!\n",
      "[nltk_data]    | Downloading package brown_tei to\n",
      "[nltk_data]    |     C:\\Users\\elias\\AppData\\Roaming\\nltk_data...\n",
      "[nltk_data]    |   Package brown_tei is already up-to-date!\n",
      "[nltk_data]    | Downloading package cess_cat to\n",
      "[nltk_data]    |     C:\\Users\\elias\\AppData\\Roaming\\nltk_data...\n",
      "[nltk_data]    |   Package cess_cat is already up-to-date!\n",
      "[nltk_data]    | Downloading package cess_esp to\n",
      "[nltk_data]    |     C:\\Users\\elias\\AppData\\Roaming\\nltk_data...\n",
      "[nltk_data]    |   Package cess_esp is already up-to-date!\n",
      "[nltk_data]    | Downloading package chat80 to\n",
      "[nltk_data]    |     C:\\Users\\elias\\AppData\\Roaming\\nltk_data...\n",
      "[nltk_data]    |   Package chat80 is already up-to-date!\n",
      "[nltk_data]    | Downloading package city_database to\n",
      "[nltk_data]    |     C:\\Users\\elias\\AppData\\Roaming\\nltk_data...\n",
      "[nltk_data]    |   Package city_database is already up-to-date!\n",
      "[nltk_data]    | Downloading package cmudict to\n",
      "[nltk_data]    |     C:\\Users\\elias\\AppData\\Roaming\\nltk_data...\n",
      "[nltk_data]    |   Package cmudict is already up-to-date!\n",
      "[nltk_data]    | Downloading package comparative_sentences to\n",
      "[nltk_data]    |     C:\\Users\\elias\\AppData\\Roaming\\nltk_data...\n",
      "[nltk_data]    |   Package comparative_sentences is already up-to-\n",
      "[nltk_data]    |       date!\n",
      "[nltk_data]    | Downloading package comtrans to\n",
      "[nltk_data]    |     C:\\Users\\elias\\AppData\\Roaming\\nltk_data...\n",
      "[nltk_data]    |   Package comtrans is already up-to-date!\n",
      "[nltk_data]    | Downloading package conll2000 to\n",
      "[nltk_data]    |     C:\\Users\\elias\\AppData\\Roaming\\nltk_data...\n",
      "[nltk_data]    |   Package conll2000 is already up-to-date!\n",
      "[nltk_data]    | Downloading package conll2002 to\n",
      "[nltk_data]    |     C:\\Users\\elias\\AppData\\Roaming\\nltk_data...\n",
      "[nltk_data]    |   Package conll2002 is already up-to-date!\n",
      "[nltk_data]    | Downloading package conll2007 to\n",
      "[nltk_data]    |     C:\\Users\\elias\\AppData\\Roaming\\nltk_data...\n",
      "[nltk_data]    |   Package conll2007 is already up-to-date!\n",
      "[nltk_data]    | Downloading package crubadan to\n",
      "[nltk_data]    |     C:\\Users\\elias\\AppData\\Roaming\\nltk_data...\n",
      "[nltk_data]    |   Package crubadan is already up-to-date!\n",
      "[nltk_data]    | Downloading package dependency_treebank to\n",
      "[nltk_data]    |     C:\\Users\\elias\\AppData\\Roaming\\nltk_data...\n",
      "[nltk_data]    |   Package dependency_treebank is already up-to-date!\n",
      "[nltk_data]    | Downloading package dolch to\n",
      "[nltk_data]    |     C:\\Users\\elias\\AppData\\Roaming\\nltk_data...\n",
      "[nltk_data]    |   Package dolch is already up-to-date!\n",
      "[nltk_data]    | Downloading package english_wordnet to\n",
      "[nltk_data]    |     C:\\Users\\elias\\AppData\\Roaming\\nltk_data...\n",
      "[nltk_data]    |   Package english_wordnet is already up-to-date!\n",
      "[nltk_data]    | Downloading package europarl_raw to\n",
      "[nltk_data]    |     C:\\Users\\elias\\AppData\\Roaming\\nltk_data...\n",
      "[nltk_data]    |   Package europarl_raw is already up-to-date!\n",
      "[nltk_data]    | Downloading package extended_omw to\n",
      "[nltk_data]    |     C:\\Users\\elias\\AppData\\Roaming\\nltk_data...\n",
      "[nltk_data]    |   Package extended_omw is already up-to-date!\n",
      "[nltk_data]    | Downloading package floresta to\n",
      "[nltk_data]    |     C:\\Users\\elias\\AppData\\Roaming\\nltk_data...\n",
      "[nltk_data]    |   Package floresta is already up-to-date!\n",
      "[nltk_data]    | Downloading package framenet_v15 to\n",
      "[nltk_data]    |     C:\\Users\\elias\\AppData\\Roaming\\nltk_data...\n",
      "[nltk_data]    |   Package framenet_v15 is already up-to-date!\n",
      "[nltk_data]    | Downloading package framenet_v17 to\n",
      "[nltk_data]    |     C:\\Users\\elias\\AppData\\Roaming\\nltk_data...\n",
      "[nltk_data]    |   Package framenet_v17 is already up-to-date!\n",
      "[nltk_data]    | Downloading package gazetteers to\n",
      "[nltk_data]    |     C:\\Users\\elias\\AppData\\Roaming\\nltk_data...\n",
      "[nltk_data]    |   Package gazetteers is already up-to-date!\n",
      "[nltk_data]    | Downloading package genesis to\n",
      "[nltk_data]    |     C:\\Users\\elias\\AppData\\Roaming\\nltk_data...\n",
      "[nltk_data]    |   Package genesis is already up-to-date!\n",
      "[nltk_data]    | Downloading package gutenberg to\n",
      "[nltk_data]    |     C:\\Users\\elias\\AppData\\Roaming\\nltk_data...\n",
      "[nltk_data]    |   Package gutenberg is already up-to-date!\n",
      "[nltk_data]    | Downloading package ieer to\n",
      "[nltk_data]    |     C:\\Users\\elias\\AppData\\Roaming\\nltk_data...\n",
      "[nltk_data]    |   Package ieer is already up-to-date!\n",
      "[nltk_data]    | Downloading package inaugural to\n",
      "[nltk_data]    |     C:\\Users\\elias\\AppData\\Roaming\\nltk_data...\n",
      "[nltk_data]    |   Package inaugural is already up-to-date!\n",
      "[nltk_data]    | Downloading package indian to\n",
      "[nltk_data]    |     C:\\Users\\elias\\AppData\\Roaming\\nltk_data...\n",
      "[nltk_data]    |   Package indian is already up-to-date!\n",
      "[nltk_data]    | Downloading package jeita to\n",
      "[nltk_data]    |     C:\\Users\\elias\\AppData\\Roaming\\nltk_data...\n",
      "[nltk_data]    |   Package jeita is already up-to-date!\n",
      "[nltk_data]    | Downloading package kimmo to\n",
      "[nltk_data]    |     C:\\Users\\elias\\AppData\\Roaming\\nltk_data...\n",
      "[nltk_data]    |   Package kimmo is already up-to-date!\n",
      "[nltk_data]    | Downloading package knbc to\n",
      "[nltk_data]    |     C:\\Users\\elias\\AppData\\Roaming\\nltk_data...\n",
      "[nltk_data]    |   Package knbc is already up-to-date!\n",
      "[nltk_data]    | Downloading package large_grammars to\n",
      "[nltk_data]    |     C:\\Users\\elias\\AppData\\Roaming\\nltk_data...\n",
      "[nltk_data]    |   Package large_grammars is already up-to-date!\n",
      "[nltk_data]    | Downloading package lin_thesaurus to\n",
      "[nltk_data]    |     C:\\Users\\elias\\AppData\\Roaming\\nltk_data...\n",
      "[nltk_data]    |   Package lin_thesaurus is already up-to-date!\n",
      "[nltk_data]    | Downloading package mac_morpho to\n",
      "[nltk_data]    |     C:\\Users\\elias\\AppData\\Roaming\\nltk_data...\n",
      "[nltk_data]    |   Package mac_morpho is already up-to-date!\n",
      "[nltk_data]    | Downloading package machado to\n",
      "[nltk_data]    |     C:\\Users\\elias\\AppData\\Roaming\\nltk_data...\n",
      "[nltk_data]    |   Package machado is already up-to-date!\n",
      "[nltk_data]    | Downloading package masc_tagged to\n",
      "[nltk_data]    |     C:\\Users\\elias\\AppData\\Roaming\\nltk_data...\n",
      "[nltk_data]    |   Package masc_tagged is already up-to-date!\n",
      "[nltk_data]    | Downloading package maxent_ne_chunker to\n",
      "[nltk_data]    |     C:\\Users\\elias\\AppData\\Roaming\\nltk_data...\n",
      "[nltk_data]    |   Package maxent_ne_chunker is already up-to-date!\n",
      "[nltk_data]    | Downloading package maxent_ne_chunker_tab to\n",
      "[nltk_data]    |     C:\\Users\\elias\\AppData\\Roaming\\nltk_data...\n",
      "[nltk_data]    |   Package maxent_ne_chunker_tab is already up-to-\n",
      "[nltk_data]    |       date!\n",
      "[nltk_data]    | Downloading package maxent_treebank_pos_tagger to\n",
      "[nltk_data]    |     C:\\Users\\elias\\AppData\\Roaming\\nltk_data...\n",
      "[nltk_data]    |   Package maxent_treebank_pos_tagger is already up-\n",
      "[nltk_data]    |       to-date!\n",
      "[nltk_data]    | Downloading package maxent_treebank_pos_tagger_tab to\n",
      "[nltk_data]    |     C:\\Users\\elias\\AppData\\Roaming\\nltk_data...\n",
      "[nltk_data]    |   Package maxent_treebank_pos_tagger_tab is already\n",
      "[nltk_data]    |       up-to-date!\n",
      "[nltk_data]    | Downloading package moses_sample to\n",
      "[nltk_data]    |     C:\\Users\\elias\\AppData\\Roaming\\nltk_data...\n",
      "[nltk_data]    |   Package moses_sample is already up-to-date!\n",
      "[nltk_data]    | Downloading package movie_reviews to\n",
      "[nltk_data]    |     C:\\Users\\elias\\AppData\\Roaming\\nltk_data...\n",
      "[nltk_data]    |   Package movie_reviews is already up-to-date!\n",
      "[nltk_data]    | Downloading package mte_teip5 to\n",
      "[nltk_data]    |     C:\\Users\\elias\\AppData\\Roaming\\nltk_data...\n",
      "[nltk_data]    |   Package mte_teip5 is already up-to-date!\n",
      "[nltk_data]    | Downloading package mwa_ppdb to\n",
      "[nltk_data]    |     C:\\Users\\elias\\AppData\\Roaming\\nltk_data...\n",
      "[nltk_data]    |   Package mwa_ppdb is already up-to-date!\n",
      "[nltk_data]    | Downloading package names to\n",
      "[nltk_data]    |     C:\\Users\\elias\\AppData\\Roaming\\nltk_data...\n",
      "[nltk_data]    |   Package names is already up-to-date!\n",
      "[nltk_data]    | Downloading package nombank.1.0 to\n",
      "[nltk_data]    |     C:\\Users\\elias\\AppData\\Roaming\\nltk_data...\n",
      "[nltk_data]    |   Package nombank.1.0 is already up-to-date!\n",
      "[nltk_data]    | Downloading package nonbreaking_prefixes to\n",
      "[nltk_data]    |     C:\\Users\\elias\\AppData\\Roaming\\nltk_data...\n",
      "[nltk_data]    |   Package nonbreaking_prefixes is already up-to-date!\n",
      "[nltk_data]    | Downloading package nps_chat to\n",
      "[nltk_data]    |     C:\\Users\\elias\\AppData\\Roaming\\nltk_data...\n",
      "[nltk_data]    |   Package nps_chat is already up-to-date!\n",
      "[nltk_data]    | Downloading package omw to\n",
      "[nltk_data]    |     C:\\Users\\elias\\AppData\\Roaming\\nltk_data...\n",
      "[nltk_data]    |   Package omw is already up-to-date!\n",
      "[nltk_data]    | Downloading package omw-1.4 to\n",
      "[nltk_data]    |     C:\\Users\\elias\\AppData\\Roaming\\nltk_data...\n",
      "[nltk_data]    |   Package omw-1.4 is already up-to-date!\n",
      "[nltk_data]    | Downloading package opinion_lexicon to\n",
      "[nltk_data]    |     C:\\Users\\elias\\AppData\\Roaming\\nltk_data...\n",
      "[nltk_data]    |   Package opinion_lexicon is already up-to-date!\n",
      "[nltk_data]    | Downloading package panlex_swadesh to\n",
      "[nltk_data]    |     C:\\Users\\elias\\AppData\\Roaming\\nltk_data...\n",
      "[nltk_data]    |   Package panlex_swadesh is already up-to-date!\n",
      "[nltk_data]    | Downloading package paradigms to\n",
      "[nltk_data]    |     C:\\Users\\elias\\AppData\\Roaming\\nltk_data...\n",
      "[nltk_data]    |   Package paradigms is already up-to-date!\n",
      "[nltk_data]    | Downloading package pe08 to\n",
      "[nltk_data]    |     C:\\Users\\elias\\AppData\\Roaming\\nltk_data...\n",
      "[nltk_data]    |   Package pe08 is already up-to-date!\n",
      "[nltk_data]    | Downloading package perluniprops to\n",
      "[nltk_data]    |     C:\\Users\\elias\\AppData\\Roaming\\nltk_data...\n",
      "[nltk_data]    |   Package perluniprops is already up-to-date!\n",
      "[nltk_data]    | Downloading package pil to\n",
      "[nltk_data]    |     C:\\Users\\elias\\AppData\\Roaming\\nltk_data...\n",
      "[nltk_data]    |   Package pil is already up-to-date!\n",
      "[nltk_data]    | Downloading package pl196x to\n",
      "[nltk_data]    |     C:\\Users\\elias\\AppData\\Roaming\\nltk_data...\n",
      "[nltk_data]    |   Package pl196x is already up-to-date!\n",
      "[nltk_data]    | Downloading package porter_test to\n",
      "[nltk_data]    |     C:\\Users\\elias\\AppData\\Roaming\\nltk_data...\n",
      "[nltk_data]    |   Package porter_test is already up-to-date!\n",
      "[nltk_data]    | Downloading package ppattach to\n",
      "[nltk_data]    |     C:\\Users\\elias\\AppData\\Roaming\\nltk_data...\n",
      "[nltk_data]    |   Package ppattach is already up-to-date!\n",
      "[nltk_data]    | Downloading package problem_reports to\n",
      "[nltk_data]    |     C:\\Users\\elias\\AppData\\Roaming\\nltk_data...\n",
      "[nltk_data]    |   Package problem_reports is already up-to-date!\n",
      "[nltk_data]    | Downloading package product_reviews_1 to\n",
      "[nltk_data]    |     C:\\Users\\elias\\AppData\\Roaming\\nltk_data...\n",
      "[nltk_data]    |   Package product_reviews_1 is already up-to-date!\n",
      "[nltk_data]    | Downloading package product_reviews_2 to\n",
      "[nltk_data]    |     C:\\Users\\elias\\AppData\\Roaming\\nltk_data...\n",
      "[nltk_data]    |   Package product_reviews_2 is already up-to-date!\n",
      "[nltk_data]    | Downloading package propbank to\n",
      "[nltk_data]    |     C:\\Users\\elias\\AppData\\Roaming\\nltk_data...\n",
      "[nltk_data]    |   Package propbank is already up-to-date!\n",
      "[nltk_data]    | Downloading package pros_cons to\n",
      "[nltk_data]    |     C:\\Users\\elias\\AppData\\Roaming\\nltk_data...\n",
      "[nltk_data]    |   Package pros_cons is already up-to-date!\n",
      "[nltk_data]    | Downloading package ptb to\n",
      "[nltk_data]    |     C:\\Users\\elias\\AppData\\Roaming\\nltk_data...\n",
      "[nltk_data]    |   Package ptb is already up-to-date!\n",
      "[nltk_data]    | Downloading package punkt to\n",
      "[nltk_data]    |     C:\\Users\\elias\\AppData\\Roaming\\nltk_data...\n",
      "[nltk_data]    |   Package punkt is already up-to-date!\n",
      "[nltk_data]    | Downloading package punkt_tab to\n",
      "[nltk_data]    |     C:\\Users\\elias\\AppData\\Roaming\\nltk_data...\n",
      "[nltk_data]    |   Package punkt_tab is already up-to-date!\n",
      "[nltk_data]    | Downloading package qc to\n",
      "[nltk_data]    |     C:\\Users\\elias\\AppData\\Roaming\\nltk_data...\n",
      "[nltk_data]    |   Package qc is already up-to-date!\n",
      "[nltk_data]    | Downloading package reuters to\n",
      "[nltk_data]    |     C:\\Users\\elias\\AppData\\Roaming\\nltk_data...\n",
      "[nltk_data]    |   Package reuters is already up-to-date!\n",
      "[nltk_data]    | Downloading package rslp to\n",
      "[nltk_data]    |     C:\\Users\\elias\\AppData\\Roaming\\nltk_data...\n",
      "[nltk_data]    |   Package rslp is already up-to-date!\n",
      "[nltk_data]    | Downloading package rte to\n",
      "[nltk_data]    |     C:\\Users\\elias\\AppData\\Roaming\\nltk_data...\n",
      "[nltk_data]    |   Package rte is already up-to-date!\n",
      "[nltk_data]    | Downloading package sample_grammars to\n",
      "[nltk_data]    |     C:\\Users\\elias\\AppData\\Roaming\\nltk_data...\n",
      "[nltk_data]    |   Package sample_grammars is already up-to-date!\n",
      "[nltk_data]    | Downloading package semcor to\n",
      "[nltk_data]    |     C:\\Users\\elias\\AppData\\Roaming\\nltk_data...\n",
      "[nltk_data]    |   Package semcor is already up-to-date!\n",
      "[nltk_data]    | Downloading package senseval to\n",
      "[nltk_data]    |     C:\\Users\\elias\\AppData\\Roaming\\nltk_data...\n",
      "[nltk_data]    |   Package senseval is already up-to-date!\n",
      "[nltk_data]    | Downloading package sentence_polarity to\n",
      "[nltk_data]    |     C:\\Users\\elias\\AppData\\Roaming\\nltk_data...\n",
      "[nltk_data]    |   Package sentence_polarity is already up-to-date!\n",
      "[nltk_data]    | Downloading package sentiwordnet to\n",
      "[nltk_data]    |     C:\\Users\\elias\\AppData\\Roaming\\nltk_data...\n",
      "[nltk_data]    |   Package sentiwordnet is already up-to-date!\n",
      "[nltk_data]    | Downloading package shakespeare to\n",
      "[nltk_data]    |     C:\\Users\\elias\\AppData\\Roaming\\nltk_data...\n",
      "[nltk_data]    |   Package shakespeare is already up-to-date!\n",
      "[nltk_data]    | Downloading package sinica_treebank to\n",
      "[nltk_data]    |     C:\\Users\\elias\\AppData\\Roaming\\nltk_data...\n",
      "[nltk_data]    |   Package sinica_treebank is already up-to-date!\n",
      "[nltk_data]    | Downloading package smultron to\n",
      "[nltk_data]    |     C:\\Users\\elias\\AppData\\Roaming\\nltk_data...\n",
      "[nltk_data]    |   Package smultron is already up-to-date!\n",
      "[nltk_data]    | Downloading package snowball_data to\n",
      "[nltk_data]    |     C:\\Users\\elias\\AppData\\Roaming\\nltk_data...\n",
      "[nltk_data]    |   Package snowball_data is already up-to-date!\n",
      "[nltk_data]    | Downloading package spanish_grammars to\n",
      "[nltk_data]    |     C:\\Users\\elias\\AppData\\Roaming\\nltk_data...\n",
      "[nltk_data]    |   Package spanish_grammars is already up-to-date!\n",
      "[nltk_data]    | Downloading package state_union to\n",
      "[nltk_data]    |     C:\\Users\\elias\\AppData\\Roaming\\nltk_data...\n",
      "[nltk_data]    |   Package state_union is already up-to-date!\n",
      "[nltk_data]    | Downloading package stopwords to\n",
      "[nltk_data]    |     C:\\Users\\elias\\AppData\\Roaming\\nltk_data...\n",
      "[nltk_data]    |   Package stopwords is already up-to-date!\n",
      "[nltk_data]    | Downloading package subjectivity to\n",
      "[nltk_data]    |     C:\\Users\\elias\\AppData\\Roaming\\nltk_data...\n",
      "[nltk_data]    |   Package subjectivity is already up-to-date!\n",
      "[nltk_data]    | Downloading package swadesh to\n",
      "[nltk_data]    |     C:\\Users\\elias\\AppData\\Roaming\\nltk_data...\n",
      "[nltk_data]    |   Package swadesh is already up-to-date!\n",
      "[nltk_data]    | Downloading package switchboard to\n",
      "[nltk_data]    |     C:\\Users\\elias\\AppData\\Roaming\\nltk_data...\n",
      "[nltk_data]    |   Package switchboard is already up-to-date!\n",
      "[nltk_data]    | Downloading package tagsets to\n",
      "[nltk_data]    |     C:\\Users\\elias\\AppData\\Roaming\\nltk_data...\n",
      "[nltk_data]    |   Package tagsets is already up-to-date!\n",
      "[nltk_data]    | Downloading package tagsets_json to\n",
      "[nltk_data]    |     C:\\Users\\elias\\AppData\\Roaming\\nltk_data...\n",
      "[nltk_data]    |   Package tagsets_json is already up-to-date!\n",
      "[nltk_data]    | Downloading package timit to\n",
      "[nltk_data]    |     C:\\Users\\elias\\AppData\\Roaming\\nltk_data...\n",
      "[nltk_data]    |   Package timit is already up-to-date!\n",
      "[nltk_data]    | Downloading package toolbox to\n",
      "[nltk_data]    |     C:\\Users\\elias\\AppData\\Roaming\\nltk_data...\n",
      "[nltk_data]    |   Package toolbox is already up-to-date!\n",
      "[nltk_data]    | Downloading package treebank to\n",
      "[nltk_data]    |     C:\\Users\\elias\\AppData\\Roaming\\nltk_data...\n",
      "[nltk_data]    |   Package treebank is already up-to-date!\n",
      "[nltk_data]    | Downloading package twitter_samples to\n",
      "[nltk_data]    |     C:\\Users\\elias\\AppData\\Roaming\\nltk_data...\n",
      "[nltk_data]    |   Package twitter_samples is already up-to-date!\n",
      "[nltk_data]    | Downloading package udhr to\n",
      "[nltk_data]    |     C:\\Users\\elias\\AppData\\Roaming\\nltk_data...\n",
      "[nltk_data]    |   Package udhr is already up-to-date!\n",
      "[nltk_data]    | Downloading package udhr2 to\n",
      "[nltk_data]    |     C:\\Users\\elias\\AppData\\Roaming\\nltk_data...\n",
      "[nltk_data]    |   Package udhr2 is already up-to-date!\n",
      "[nltk_data]    | Downloading package unicode_samples to\n",
      "[nltk_data]    |     C:\\Users\\elias\\AppData\\Roaming\\nltk_data...\n",
      "[nltk_data]    |   Package unicode_samples is already up-to-date!\n",
      "[nltk_data]    | Downloading package universal_tagset to\n",
      "[nltk_data]    |     C:\\Users\\elias\\AppData\\Roaming\\nltk_data...\n",
      "[nltk_data]    |   Package universal_tagset is already up-to-date!\n",
      "[nltk_data]    | Downloading package universal_treebanks_v20 to\n",
      "[nltk_data]    |     C:\\Users\\elias\\AppData\\Roaming\\nltk_data...\n",
      "[nltk_data]    |   Package universal_treebanks_v20 is already up-to-\n",
      "[nltk_data]    |       date!\n",
      "[nltk_data]    | Downloading package vader_lexicon to\n",
      "[nltk_data]    |     C:\\Users\\elias\\AppData\\Roaming\\nltk_data...\n",
      "[nltk_data]    |   Package vader_lexicon is already up-to-date!\n",
      "[nltk_data]    | Downloading package verbnet to\n",
      "[nltk_data]    |     C:\\Users\\elias\\AppData\\Roaming\\nltk_data...\n",
      "[nltk_data]    |   Package verbnet is already up-to-date!\n",
      "[nltk_data]    | Downloading package verbnet3 to\n",
      "[nltk_data]    |     C:\\Users\\elias\\AppData\\Roaming\\nltk_data...\n",
      "[nltk_data]    |   Package verbnet3 is already up-to-date!\n",
      "[nltk_data]    | Downloading package webtext to\n",
      "[nltk_data]    |     C:\\Users\\elias\\AppData\\Roaming\\nltk_data...\n",
      "[nltk_data]    |   Package webtext is already up-to-date!\n",
      "[nltk_data]    | Downloading package wmt15_eval to\n",
      "[nltk_data]    |     C:\\Users\\elias\\AppData\\Roaming\\nltk_data...\n",
      "[nltk_data]    |   Package wmt15_eval is already up-to-date!\n",
      "[nltk_data]    | Downloading package word2vec_sample to\n",
      "[nltk_data]    |     C:\\Users\\elias\\AppData\\Roaming\\nltk_data...\n",
      "[nltk_data]    |   Package word2vec_sample is already up-to-date!\n",
      "[nltk_data]    | Downloading package wordnet to\n",
      "[nltk_data]    |     C:\\Users\\elias\\AppData\\Roaming\\nltk_data...\n",
      "[nltk_data]    |   Package wordnet is already up-to-date!\n",
      "[nltk_data]    | Downloading package wordnet2021 to\n",
      "[nltk_data]    |     C:\\Users\\elias\\AppData\\Roaming\\nltk_data...\n",
      "[nltk_data]    |   Package wordnet2021 is already up-to-date!\n",
      "[nltk_data]    | Downloading package wordnet2022 to\n",
      "[nltk_data]    |     C:\\Users\\elias\\AppData\\Roaming\\nltk_data...\n",
      "[nltk_data]    |   Package wordnet2022 is already up-to-date!\n",
      "[nltk_data]    | Downloading package wordnet31 to\n",
      "[nltk_data]    |     C:\\Users\\elias\\AppData\\Roaming\\nltk_data...\n",
      "[nltk_data]    |   Package wordnet31 is already up-to-date!\n",
      "[nltk_data]    | Downloading package wordnet_ic to\n",
      "[nltk_data]    |     C:\\Users\\elias\\AppData\\Roaming\\nltk_data...\n",
      "[nltk_data]    |   Package wordnet_ic is already up-to-date!\n",
      "[nltk_data]    | Downloading package words to\n",
      "[nltk_data]    |     C:\\Users\\elias\\AppData\\Roaming\\nltk_data...\n",
      "[nltk_data]    |   Package words is already up-to-date!\n",
      "[nltk_data]    | Downloading package ycoe to\n",
      "[nltk_data]    |     C:\\Users\\elias\\AppData\\Roaming\\nltk_data...\n",
      "[nltk_data]    |   Package ycoe is already up-to-date!\n",
      "[nltk_data]    | \n",
      "[nltk_data]  Done downloading collection all\n"
     ]
    },
    {
     "data": {
      "text/plain": [
       "True"
      ]
     },
     "execution_count": 73,
     "metadata": {},
     "output_type": "execute_result"
    }
   ],
   "source": [
    "%pip install nltk\n",
    "\n",
    "import nltk\n",
    "nltk.download('all')\n"
   ]
  },
  {
   "cell_type": "markdown",
   "id": "24b8d5e2",
   "metadata": {},
   "source": [
    "# 2. Trabalhando com o corpus “machado” e a classe Text"
   ]
  },
  {
   "cell_type": "markdown",
   "id": "644a46c4",
   "metadata": {},
   "source": [
    "Carregar o corpus machado e explorar o texto cru e a classe Text para análises posteriores"
   ]
  },
  {
   "cell_type": "code",
   "execution_count": 74,
   "id": "1c703011",
   "metadata": {},
   "outputs": [
    {
     "name": "stdout",
     "output_type": "stream",
     "text": [
      "['contos/macn001.txt', 'contos/macn002.txt', 'contos/macn003.txt', 'contos/macn004.txt', 'contos/macn005.txt', 'contos/macn006.txt', 'contos/macn007.txt', 'contos/macn008.txt', 'contos/macn009.txt', 'contos/macn010.txt', 'contos/macn011.txt', 'contos/macn012.txt', 'contos/macn013.txt', 'contos/macn014.txt', 'contos/macn015.txt', 'contos/macn016.txt', 'contos/macn017.txt', 'contos/macn018.txt', 'contos/macn019.txt', 'contos/macn020.txt', 'contos/macn021.txt', 'contos/macn022.txt', 'contos/macn023.txt', 'contos/macn024.txt', 'contos/macn025.txt', 'contos/macn026.txt', 'contos/macn027.txt', 'contos/macn028.txt', 'contos/macn029.txt', 'contos/macn030.txt', 'contos/macn031.txt', 'contos/macn032.txt', 'contos/macn033.txt', 'contos/macn034.txt', 'contos/macn035.txt', 'contos/macn036.txt', 'contos/macn037.txt', 'contos/macn038.txt', 'contos/macn039.txt', 'contos/macn040.txt', 'contos/macn041.txt', 'contos/macn042.txt', 'contos/macn043.txt', 'contos/macn044.txt', 'contos/macn045.txt', 'contos/macn046.txt', 'contos/macn047.txt', 'contos/macn048.txt', 'contos/macn049.txt', 'contos/macn050.txt', 'contos/macn051.txt', 'contos/macn052.txt', 'contos/macn053.txt', 'contos/macn054.txt', 'contos/macn055.txt', 'contos/macn056.txt', 'contos/macn057.txt', 'contos/macn058.txt', 'contos/macn059.txt', 'contos/macn060.txt', 'contos/macn061.txt', 'contos/macn062.txt', 'contos/macn063.txt', 'contos/macn064.txt', 'contos/macn065.txt', 'contos/macn066.txt', 'contos/macn067.txt', 'contos/macn068.txt', 'contos/macn069.txt', 'contos/macn070.txt', 'contos/macn071.txt', 'contos/macn072.txt', 'contos/macn073.txt', 'contos/macn074.txt', 'contos/macn075.txt', 'contos/macn076.txt', 'contos/macn077.txt', 'contos/macn078.txt', 'contos/macn079.txt', 'contos/macn080.txt', 'contos/macn081.txt', 'contos/macn082.txt', 'contos/macn083.txt', 'contos/macn084.txt', 'contos/macn085.txt', 'contos/macn086.txt', 'contos/macn087.txt', 'contos/macn088.txt', 'contos/macn089.txt', 'contos/macn090.txt', 'contos/macn091.txt', 'contos/macn092.txt', 'contos/macn093.txt', 'contos/macn094.txt', 'contos/macn095.txt', 'contos/macn096.txt', 'contos/macn097.txt', 'contos/macn098.txt', 'contos/macn099.txt', 'contos/macn100.txt', 'contos/macn101.txt', 'contos/macn102.txt', 'contos/macn103.txt', 'contos/macn104.txt', 'contos/macn105.txt', 'contos/macn106.txt', 'contos/macn107.txt', 'contos/macn108.txt', 'contos/macn109.txt', 'contos/macn110.txt', 'contos/macn111.txt', 'contos/macn112.txt', 'contos/macn113.txt', 'contos/macn114.txt', 'contos/macn115.txt', 'contos/macn116.txt', 'contos/macn117.txt', 'contos/macn118.txt', 'contos/macn119.txt', 'contos/macn120.txt', 'contos/macn121.txt', 'contos/macn122.txt', 'contos/macn123.txt', 'contos/macn124.txt', 'contos/macn125.txt', 'contos/macn126.txt', 'contos/macn127.txt', 'contos/macn128.txt', 'contos/macn129.txt', 'contos/macn130.txt', 'contos/macn131.txt', 'contos/macn132.txt', 'contos/macn133.txt', 'contos/macn134.txt', 'contos/macn135.txt', 'contos/macn136.txt', 'contos/macn137.txt', 'critica/mact01.txt', 'critica/mact02.txt', 'critica/mact03.txt', 'critica/mact04.txt', 'critica/mact05.txt', 'critica/mact06.txt', 'critica/mact07.txt', 'critica/mact08.txt', 'critica/mact09.txt', 'critica/mact10.txt', 'critica/mact11.txt', 'critica/mact12.txt', 'critica/mact13.txt', 'critica/mact14.txt', 'critica/mact15.txt', 'critica/mact16.txt', 'critica/mact17.txt', 'critica/mact18.txt', 'critica/mact19.txt', 'critica/mact20.txt', 'critica/mact21.txt', 'critica/mact22.txt', 'critica/mact23.txt', 'critica/mact24.txt', 'critica/mact25.txt', 'critica/mact26.txt', 'critica/mact27.txt', 'critica/mact28.txt', 'critica/mact29.txt', 'critica/mact30.txt', 'critica/mact31.txt', 'critica/mact32.txt', 'critica/mact33.txt', 'critica/mact34.txt', 'critica/mact35.txt', 'critica/mact36.txt', 'critica/mact37.txt', 'critica/mact38.txt', 'critica/mact39.txt', 'critica/mact40.txt', 'critica/mact41.txt', 'critica/mact42.txt', 'critica/mact43.txt', 'critica/mact44.txt', 'critica/mact45.txt', 'cronica/macr01.txt', 'cronica/macr02.txt', 'cronica/macr03.txt', 'cronica/macr04.txt', 'cronica/macr05.txt', 'cronica/macr06.txt', 'cronica/macr07.txt', 'cronica/macr08.txt', 'cronica/macr09.txt', 'cronica/macr10.txt', 'cronica/macr11.txt', 'cronica/macr12.txt', 'cronica/macr13.txt', 'cronica/macr14.txt', 'cronica/macr15.txt', 'cronica/macr16.txt', 'cronica/macr17.txt', 'cronica/macr18.txt', 'cronica/macr19.txt', 'cronica/macr20.txt', 'cronica/macr21.txt', 'cronica/macr22.txt', 'cronica/macr23.txt', 'cronica/macr24.txt', 'miscelanea/mams01.txt', 'miscelanea/mams02.txt', 'miscelanea/mams03.txt', 'miscelanea/mams04.txt', 'miscelanea/mams05.txt', 'miscelanea/mams06.txt', 'miscelanea/mams07.txt', 'miscelanea/mams08.txt', 'miscelanea/mams09.txt', 'miscelanea/mams10.txt', 'poesia/maps01.txt', 'poesia/maps02.txt', 'poesia/maps03.txt', 'poesia/maps04.txt', 'poesia/maps05.txt', 'poesia/maps06.txt', 'poesia/maps07.txt', 'romance/marm01.txt', 'romance/marm02.txt', 'romance/marm03.txt', 'romance/marm04.txt', 'romance/marm05.txt', 'romance/marm06.txt', 'romance/marm07.txt', 'romance/marm08.txt', 'romance/marm09.txt', 'romance/marm10.txt', 'teatro/matt01.txt', 'teatro/matt02.txt', 'teatro/matt03.txt', 'teatro/matt04.txt', 'teatro/matt05.txt', 'teatro/matt06.txt', 'teatro/matt07.txt', 'teatro/matt08.txt', 'teatro/matt09.txt', 'teatro/matt10.txt', 'traducao/matr01.txt', 'traducao/matr02.txt', 'traducao/matr03.txt']\n",
      "essa anônima, ainda que não parenta, padeceu mais do que as parentas.\n",
      "É verdade, padeceu mais. Não digo que se carpisse, não digo que se deixasse\n",
      "rolar pelo chão, convulsa. Nem o meu óbito era coisa a\n"
     ]
    }
   ],
   "source": [
    "from nltk.corpus import machado\n",
    "print(machado.fileids())\n",
    "\n",
    "raw_text = machado.raw('romance/marm05.txt')\n",
    "print(raw_text[5600:5800])  # Print os primeiros 1000 caracteres do texto\n",
    "\n",
    "from nltk.text import Text\n",
    "bras = Text(machado.words('romance/marm05.txt'))"
   ]
  },
  {
   "cell_type": "markdown",
   "id": "9a5e6807",
   "metadata": {},
   "source": [
    "# 3. Retornar um texto como uma lista de tokens utilizando o método .words(id):"
   ]
  },
  {
   "cell_type": "code",
   "execution_count": 75,
   "id": "18ffae18",
   "metadata": {},
   "outputs": [
    {
     "name": "stdout",
     "output_type": "stream",
     "text": [
      "['Romance', ',', 'Memórias', 'Póstumas', 'de', 'Brás', ...]\n"
     ]
    },
    {
     "data": {
      "text/plain": [
       "77098"
      ]
     },
     "execution_count": 75,
     "metadata": {},
     "output_type": "execute_result"
    }
   ],
   "source": [
    "texto1 = machado.words('romance/marm05.txt')\n",
    "print(texto1)\n",
    "\n",
    "len(texto1)"
   ]
  },
  {
   "cell_type": "markdown",
   "id": "20524093",
   "metadata": {},
   "source": [
    "# 4. Concordância, similaridade e colocações"
   ]
  },
  {
   "cell_type": "markdown",
   "id": "19612920",
   "metadata": {},
   "source": [
    "Usamos métodos da classe Text para encontrar contextos de uma palavra (concordance), termos de distribuição similar (similar), padrões com regex (findall) e expressões frequentes (collocations)"
   ]
  },
  {
   "cell_type": "code",
   "execution_count": 76,
   "id": "e3e91d0c",
   "metadata": {},
   "outputs": [
    {
     "name": "stdout",
     "output_type": "stream",
     "text": [
      "Displaying 25 of 138 matches:\n",
      "De pé , à cabeceira da cama , com os olhos estúpidos , a boca entreaberta , a t\n",
      "orelhas . Pela minha parte fechei os olhos e deixei - me ir à ventura . Já agor\n",
      "xões de cérebro enfermo . Como ia de olhos fechados , não via o caminho ; lembr\n",
      "gelos eternos . Com efeito , abri os olhos e vi que o meu animal galopava numa \n",
      "me apareceu então , fitando - me uns olhos rutilantes como o sol . Tudo nessa f\n",
      " mim mesmo . Então , encarei - a com olhos súplices , e pedi mais alguns anos .\n",
      "o alto de uma montanha . Inclinei os olhos a uma das vertentes , e contemplei ,\n",
      "ilhão , e , não obstante , porque os olhos do delírio são outros , eu via tudo \n",
      "cifração da eternidade . E fixei os olhos , e continuei a ver as idades , que \n",
      " esperto , concordava meu pai ; e os olhos babavam - se - lhe de orgulho , e el\n",
      "te , e , repetido o mote , cravar os olhos na testa de uma senhora , depois tos\n",
      "avrear de estômagos satisfeitos ; os olhos moles e úmidos , ou vivos e cálidos \n",
      "m estacado de orquestra , e todos os olhos se voltavam para o glosador . Quem f\n",
      " . Eu via isso , porque arrastava os olhos da compota para ele e dele para a co\n",
      " eu segui - os . O Vilaça levava nos olhos umas chispas de vinho e de volúpia .\n",
      "es ... D . Eusébia levou o lenço aos olhos . O glosador vasculhava na memória a\n",
      " estupefação imobilizou a todos ; os olhos espraiavam - se a uma e outra banda \n",
      "a aula , dava um pulo , circulava os olhos chamejantes , dizia - nos os últimos\n",
      ", deixava - se estar quieto , com os olhos espetados no ar . Uma flor , o Quinc\n",
      "u forcejava por trazer a bigode . Os olhos , vivos e resolutos , eram a minha f\n",
      " pensativa , ou levantou para mim os olhos cobiçosos . De todas porém a que me \n",
      "pouco ou nada comi , porque só tinha olhos para a dona da casa . Que gentil que\n",
      "erramava - se - lhe a felicidade dos olhos , e eu sentia - me feliz com vê - la\n",
      " meu amor ! Eu agradeci - lho com os olhos úmidos . No dia seguinte levei - lhe\n",
      "proposta . Marcela ouviu - me com os olhos no ar , sem responder logo ; como in\n"
     ]
    }
   ],
   "source": [
    "# Concordância\n",
    "bras.concordance('olhos')"
   ]
  },
  {
   "cell_type": "code",
   "execution_count": 77,
   "id": "220e2d0f",
   "metadata": {},
   "outputs": [
    {
     "name": "stdout",
     "output_type": "stream",
     "text": [
      "já leitor lhe dizer com menos contar deixei cheguei desferirem peito\n",
      "corpo fazer porém ver casamento soltar quebrei titubear sacrifício\n"
     ]
    }
   ],
   "source": [
    "# palavras de distribuição similar\n",
    "bras.similar('chegar')"
   ]
  },
  {
   "cell_type": "code",
   "execution_count": 78,
   "id": "a1b7fe41",
   "metadata": {},
   "outputs": [
    {
     "name": "stdout",
     "output_type": "stream",
     "text": [
      "estúpidos; e; fechados; e; rutilantes; súplices; a; do; ,; babavam;\n",
      "na; moles; se; da; umas; .; espraiavam; chamejantes; espetados; ,;\n",
      "cobiçosos; para; ,; úmidos; no; ;; de; de; fitos; a; naquele; do; ,;\n",
      "pretos; as; estúpidos; ao; às; ...; ,; fúlgidos; de; ,; .; de; pretos;\n",
      "tão; de; para; a; chisparam; para; me; da; ,; ,; uma; no; na; para;\n",
      "se; em; .; em; .; de; ,; no; nela; tinham; ;; cintilantes; o; dos; e;\n",
      ",; de; de; dela; vermelhos; .; e; .; o; ,; constantemente; para; ,; ,;\n",
      "para; ,; ao; ,; na; na; baixos; no; mais; no; se; dela; do; no; ,;\n",
      "lampejantes; rasos; todos; ,; e; do; pelos; de; ao; .; lhe; de;\n",
      "enfermos; :; ,; .; e; da; fixos; .; fitos; ,; ,; bonitos; de; ...; .;\n",
      "de; algum; a; ;; fitos; em\n"
     ]
    }
   ],
   "source": [
    "# findall com regex\n",
    "bras.findall(r\"<olhos> (<.*>)\")"
   ]
  },
  {
   "cell_type": "code",
   "execution_count": 79,
   "id": "620eddb6",
   "metadata": {},
   "outputs": [
    {
     "name": "stdout",
     "output_type": "stream",
     "text": [
      "Quincas Borba; Lobo Neves; alguma coisa; Brás Cubas; meu pai; que não;\n",
      "dia seguinte; não sei; Com efeito; que era; Meu pai; alguns instantes;\n",
      "outra vez; outra coisa; por exemplo; que ele; mim mesmo; coisa\n",
      "nenhuma; mesma coisa; não era\n"
     ]
    }
   ],
   "source": [
    "# collocations (bigrama frequente)\n",
    "bras.collocations()"
   ]
  },
  {
   "cell_type": "markdown",
   "id": "27b845a9",
   "metadata": {},
   "source": [
    "# 5. Stopwords em Português"
   ]
  },
  {
   "cell_type": "markdown",
   "id": "d293b182",
   "metadata": {},
   "source": [
    "Stopwords são palavras que podem ser consideradas irrelevantes para o entendimento do sentiddo do texto. Ex.: as, os, e, para, entre outros. O NLTK possui uma lista de stopwords para o Português.\n",
    "Extraímos a lista de palavras de parada (stopwords) em português, úteis para filtragem de tokens irrelevantes."
   ]
  },
  {
   "cell_type": "code",
   "execution_count": 80,
   "id": "ddc4ae9d",
   "metadata": {},
   "outputs": [
    {
     "data": {
      "text/plain": [
       "['a',\n",
       " 'à',\n",
       " 'ao',\n",
       " 'aos',\n",
       " 'aquela',\n",
       " 'aquelas',\n",
       " 'aquele',\n",
       " 'aqueles',\n",
       " 'aquilo',\n",
       " 'as']"
      ]
     },
     "execution_count": 80,
     "metadata": {},
     "output_type": "execute_result"
    }
   ],
   "source": [
    "from nltk.corpus import stopwords\n",
    "\n",
    "stopwords = nltk.corpus.stopwords.words('portuguese')\n",
    "stopwords[:10]"
   ]
  },
  {
   "cell_type": "markdown",
   "id": "e73ad7d1",
   "metadata": {},
   "source": [
    "# 6. Colocações e Bigramas/Bigrams"
   ]
  },
  {
   "cell_type": "markdown",
   "id": "4b7589a9",
   "metadata": {},
   "source": [
    "Com o bigrams, construímos pares de palavras consecutivas a partir de uma lista de tokens."
   ]
  },
  {
   "cell_type": "code",
   "execution_count": 81,
   "id": "ffe29bfc",
   "metadata": {},
   "outputs": [
    {
     "name": "stdout",
     "output_type": "stream",
     "text": [
      "[('meu', 'coração'), ('coração', 'está'), ('está', 'bem'), ('bem', 'machucado')]\n"
     ]
    }
   ],
   "source": [
    "from nltk import bigrams\n",
    "\n",
    "print(list(bigrams(['meu', 'coração', 'está', 'bem', 'machucado'])))"
   ]
  },
  {
   "cell_type": "code",
   "execution_count": 82,
   "id": "65899604",
   "metadata": {},
   "outputs": [
    {
     "name": "stdout",
     "output_type": "stream",
     "text": [
      "Quincas Borba; Lobo Neves; alguma coisa; Brás Cubas; meu pai; que não;\n",
      "dia seguinte; não sei; Com efeito; que era; Meu pai; alguns instantes;\n",
      "outra vez; outra coisa; por exemplo; que ele; mim mesmo; coisa\n",
      "nenhuma; mesma coisa; não era\n"
     ]
    }
   ],
   "source": [
    "from nltk.corpus import machado\n",
    "from nltk.text import Text\n",
    "\n",
    "bras = Text(machado.words('romance/marm05.txt'))\n",
    "bras.collocations()"
   ]
  },
  {
   "cell_type": "markdown",
   "id": "88d7a717",
   "metadata": {},
   "source": [
    "# 7. Stemmers (RSLP)"
   ]
  },
  {
   "cell_type": "markdown",
   "id": "6d7ff9aa",
   "metadata": {},
   "source": [
    "Utilizamos o stemmer RSLP, próprio para português, para reduzir palavras à sua raiz."
   ]
  },
  {
   "cell_type": "code",
   "execution_count": 83,
   "id": "5b202e22",
   "metadata": {},
   "outputs": [
    {
     "name": "stdout",
     "output_type": "stream",
     "text": [
      "copi\n",
      "pais\n"
     ]
    }
   ],
   "source": [
    "stemmer = nltk.stem.RSLPStemmer()\n",
    "print(stemmer.stem(\"copiar\"))\n",
    "print(stemmer.stem(\"paisagem\"))\n"
   ]
  },
  {
   "cell_type": "markdown",
   "id": "b0164879",
   "metadata": {},
   "source": [
    "# 8. Tokenização com NLTK"
   ]
  },
  {
   "cell_type": "markdown",
   "id": "102384c2",
   "metadata": {},
   "source": [
    "Tokenizamos uma frase em palavras e pontuação usando o tokenizer padrão do NLTK."
   ]
  },
  {
   "cell_type": "code",
   "execution_count": 84,
   "id": "64587aa8",
   "metadata": {},
   "outputs": [
    {
     "name": "stdout",
     "output_type": "stream",
     "text": [
      "['Estou', 'bem', ',', 'mas', 'não', 'tenho', 'certeza', 'se', 'viajarei', 'amanhã', 'às', '8:30', '.']\n"
     ]
    }
   ],
   "source": [
    "import nltk\n",
    "\n",
    "sentence = \"Estou bem, mas não tenho certeza se viajarei amanhã às 8:30.\"\n",
    "tokens = nltk.word_tokenize(sentence)\n",
    "print(tokens)\n"
   ]
  },
  {
   "cell_type": "markdown",
   "id": "16f3d521",
   "metadata": {},
   "source": [
    "# 9. POS-tagging: tagger padrão e unigram"
   ]
  },
  {
   "cell_type": "markdown",
   "id": "3a1596e9",
   "metadata": {},
   "source": [
    "Treinamos um DefaultTagger que marca tudo como substantivo e um UnigramTagger baseado em sentenças etiquetadas do Mac-Morpho."
   ]
  },
  {
   "cell_type": "code",
   "execution_count": 85,
   "id": "5662bbf2",
   "metadata": {},
   "outputs": [
    {
     "data": {
      "text/plain": [
       "'N'"
      ]
     },
     "execution_count": 85,
     "metadata": {},
     "output_type": "execute_result"
    }
   ],
   "source": [
    "# Importa a biblioteca\n",
    "# import nltk.corpus import mac_morpho -> No artigo o import está errado, o correto é:\n",
    "from nltk.corpus import mac_morpho\n",
    "\n",
    "# Carrega as sentença rotuladas do Corpus\n",
    "sentencas_etiquetadas = mac_morpho.tagged_sents()\n",
    "tags = [tag for (word, tag) in mac_morpho.tagged_words()]\n",
    "nltk.FreqDist(tags).max()\n",
    "\n"
   ]
  },
  {
   "cell_type": "code",
   "execution_count": 86,
   "id": "a80c080e",
   "metadata": {},
   "outputs": [
    {
     "name": "stdout",
     "output_type": "stream",
     "text": [
      "[('Exemplo', 'N'), ('de', 'N'), ('teste', 'N')]\n",
      "[('A', 'ART'), ('manhã', 'N'), ('está', 'V'), ('ensolarada', 'ADJ')]\n"
     ]
    }
   ],
   "source": [
    "# Baseline: atribui substantivo (N) a tudo\n",
    "from nltk import DefaultTagger\n",
    "\n",
    "etiqPadrao = DefaultTagger('N')\n",
    "tokens_ex = nltk.word_tokenize(\"Exemplo de teste\")\n",
    "print(etiqPadrao.tag(tokens_ex))\n",
    "\n",
    "# Unigram tagger treinado\n",
    "unigram_tagger = nltk.tag.UnigramTagger(sentencas_etiquetadas)\n",
    "texto = \"A manhã está ensolarada\"\n",
    "tokens = nltk.word_tokenize(texto)\n",
    "print(unigram_tagger.tag(tokens))"
   ]
  },
  {
   "cell_type": "markdown",
   "id": "cb04d25a",
   "metadata": {},
   "source": [
    "# 10. N-Gram Tagging"
   ]
  },
  {
   "cell_type": "markdown",
   "id": "1393c979",
   "metadata": {},
   "source": [
    "Combinamos taggers de ordem crescente (uni, bi e tri) usando backoff para melhorar a cobertura."
   ]
  },
  {
   "cell_type": "code",
   "execution_count": 87,
   "id": "571f7c1e",
   "metadata": {},
   "outputs": [],
   "source": [
    "import nltk\n",
    "tagged_sents = nltk.corpus.mac_morpho.tagged_sents()\n",
    "\n",
    "t0 = nltk.DefaultTagger('N')\n",
    "t1 = nltk.UnigramTagger(tagged_sents, backoff=t0)\n",
    "t2 = nltk.BigramTagger(tagged_sents, backoff=t1)\n",
    "t3 = nltk.TrigramTagger(tagged_sents, backoff=t2)"
   ]
  },
  {
   "cell_type": "markdown",
   "id": "f5a18bed",
   "metadata": {},
   "source": [
    "# 11. Salvando e Carregando um Tagger"
   ]
  },
  {
   "cell_type": "markdown",
   "id": "6ced3346",
   "metadata": {},
   "source": [
    "Persistimos o TrigramTagger em disco com pickle e demonstramos como recarregá-lo."
   ]
  },
  {
   "cell_type": "code",
   "execution_count": 88,
   "id": "2be9c75d",
   "metadata": {},
   "outputs": [],
   "source": [
    "import pickle\n",
    "\n",
    "# Salvar\n",
    "with open('mac_morpho', 'wb') as out:\n",
    "    pickle.dump(t3, out, -1)\n",
    "    \n",
    "# Carregar\n",
    "with open('mac_morpho', 'rb') as inp:\n",
    "    tagger = pickle.load(inp)"
   ]
  },
  {
   "cell_type": "markdown",
   "id": "fa01135d",
   "metadata": {},
   "source": [
    "# 12. Extração de Informação"
   ]
  },
  {
   "cell_type": "code",
   "execution_count": 89,
   "id": "4e822388",
   "metadata": {},
   "outputs": [],
   "source": [
    "sentences = nltk.sent_tokenize(\"Texto de exemplo\")\n",
    "sentences = [nltk.word_tokenize(sentence) for sentence in sentences]\n",
    "sentences = [tagger.tag(sentence) for sentence in sentences]"
   ]
  },
  {
   "cell_type": "markdown",
   "id": "7819d99a",
   "metadata": {},
   "source": [
    "# 13. Chunking"
   ]
  },
  {
   "cell_type": "markdown",
   "id": "e6ea97c5",
   "metadata": {},
   "source": [
    "O tutorial original gera um erro porque o objeto Tree tenta renderizar SVG com svgling, que não está instalado. Substituímos a abordagem para usar diretamente RegexpParser importado e exibimos o resultado via print, evitando a representação SVG."
   ]
  },
  {
   "cell_type": "code",
   "execution_count": 101,
   "id": "146bc99f",
   "metadata": {},
   "outputs": [
    {
     "name": "stdout",
     "output_type": "stream",
     "text": [
      "(S João/NPROP comprou/V um/ART (PADRAO carro/N esportivo/ADJ))\n"
     ]
    }
   ],
   "source": [
    "from nltk import RegexpParser\n",
    "\n",
    "text = \"João comprou um carro esportivo\"\n",
    "tokens = nltk.word_tokenize(text)\n",
    "tagged = tagger.tag(tokens)\n",
    "\n",
    "\n",
    "\n",
    "# define o padrão: substantivo seguido de adjetivos\n",
    "gramatica = r\"\"\"PADRAO: {<N><ADJ>+}\"\"\"\n",
    "\n",
    "# analiseGramatical = nltk.RegexpParser(gramatica)\n",
    "# analiseGramatical.parse(tagged)\n",
    "parser = RegexpParser(gramatica)\n",
    "print(parser.parse(tagged))"
   ]
  },
  {
   "cell_type": "markdown",
   "id": "f4e9bcce",
   "metadata": {},
   "source": [
    "## 13.1 Instalando svgling\n",
    "Essa solução permite usar o código original do tutorial e obter a renderização SVG da árvore sintática. Basta instalar o pacote antes de executar:"
   ]
  },
  {
   "cell_type": "code",
   "execution_count": 102,
   "id": "45bfbde0",
   "metadata": {},
   "outputs": [
    {
     "name": "stdout",
     "output_type": "stream",
     "text": [
      "Requirement already satisfied: svgling in c:\\users\\elias\\appdata\\local\\programs\\python\\python312\\lib\\site-packages (0.5.0)\n",
      "Requirement already satisfied: svgwrite in c:\\users\\elias\\appdata\\local\\programs\\python\\python312\\lib\\site-packages (from svgling) (1.4.3)\n",
      "Note: you may need to restart the kernel to use updated packages.\n"
     ]
    },
    {
     "name": "stderr",
     "output_type": "stream",
     "text": [
      "\n",
      "[notice] A new release of pip is available: 25.0.1 -> 25.1.1\n",
      "[notice] To update, run: python.exe -m pip install --upgrade pip\n"
     ]
    }
   ],
   "source": [
    "%pip install svgling"
   ]
  },
  {
   "cell_type": "code",
   "execution_count": 103,
   "id": "23257f76",
   "metadata": {},
   "outputs": [
    {
     "data": {
      "image/svg+xml": [
       "<svg baseProfile=\"full\" height=\"168px\" preserveAspectRatio=\"xMidYMid meet\" style=\"font-family: times, serif; font-weight: normal; font-style: normal; font-size: 16px\" version=\"1.1\" viewBox=\"0,0,312.0,168.0\" width=\"312px\" xmlns=\"http://www.w3.org/2000/svg\" xmlns:ev=\"http://www.w3.org/2001/xml-events\" xmlns:xlink=\"http://www.w3.org/1999/xlink\"><defs /><svg width=\"100%\" x=\"0\" y=\"0px\"><defs /><text text-anchor=\"middle\" x=\"50%\" y=\"16px\">S</text></svg><svg width=\"17.9487%\" x=\"0%\" y=\"48px\"><defs /><svg width=\"100%\" x=\"0\" y=\"0px\"><defs /><text text-anchor=\"middle\" x=\"50%\" y=\"16px\">João</text></svg><svg width=\"100%\" x=\"0%\" y=\"48px\"><defs /><svg width=\"100%\" x=\"0\" y=\"0px\"><defs /><text text-anchor=\"middle\" x=\"50%\" y=\"16px\">NPROP</text></svg></svg><line stroke=\"black\" x1=\"50%\" x2=\"50%\" y1=\"20px\" y2=\"48px\" /></svg><line stroke=\"black\" x1=\"50%\" x2=\"8.97436%\" y1=\"20px\" y2=\"48px\" /><svg width=\"23.0769%\" x=\"17.9487%\" y=\"48px\"><defs /><svg width=\"100%\" x=\"0\" y=\"0px\"><defs /><text text-anchor=\"middle\" x=\"50%\" y=\"16px\">comprou</text></svg><svg width=\"100%\" x=\"0%\" y=\"48px\"><defs /><svg width=\"100%\" x=\"0\" y=\"0px\"><defs /><text text-anchor=\"middle\" x=\"50%\" y=\"16px\">V</text></svg></svg><line stroke=\"black\" x1=\"50%\" x2=\"50%\" y1=\"20px\" y2=\"48px\" /></svg><line stroke=\"black\" x1=\"50%\" x2=\"29.4872%\" y1=\"20px\" y2=\"48px\" /><svg width=\"12.8205%\" x=\"41.0256%\" y=\"48px\"><defs /><svg width=\"100%\" x=\"0\" y=\"0px\"><defs /><text text-anchor=\"middle\" x=\"50%\" y=\"16px\">um</text></svg><svg width=\"100%\" x=\"0%\" y=\"48px\"><defs /><svg width=\"100%\" x=\"0\" y=\"0px\"><defs /><text text-anchor=\"middle\" x=\"50%\" y=\"16px\">ART</text></svg></svg><line stroke=\"black\" x1=\"50%\" x2=\"50%\" y1=\"20px\" y2=\"48px\" /></svg><line stroke=\"black\" x1=\"50%\" x2=\"47.4359%\" y1=\"20px\" y2=\"48px\" /><svg width=\"46.1538%\" x=\"53.8462%\" y=\"48px\"><defs /><svg width=\"100%\" x=\"0\" y=\"0px\"><defs /><text text-anchor=\"middle\" x=\"50%\" y=\"16px\">PADRAO</text></svg><svg width=\"38.8889%\" x=\"0%\" y=\"48px\"><defs /><svg width=\"100%\" x=\"0\" y=\"0px\"><defs /><text text-anchor=\"middle\" x=\"50%\" y=\"16px\">carro</text></svg><svg width=\"100%\" x=\"0%\" y=\"48px\"><defs /><svg width=\"100%\" x=\"0\" y=\"0px\"><defs /><text text-anchor=\"middle\" x=\"50%\" y=\"16px\">N</text></svg></svg><line stroke=\"black\" x1=\"50%\" x2=\"50%\" y1=\"20px\" y2=\"48px\" /></svg><line stroke=\"black\" x1=\"50%\" x2=\"19.4444%\" y1=\"20px\" y2=\"48px\" /><svg width=\"61.1111%\" x=\"38.8889%\" y=\"48px\"><defs /><svg width=\"100%\" x=\"0\" y=\"0px\"><defs /><text text-anchor=\"middle\" x=\"50%\" y=\"16px\">esportivo</text></svg><svg width=\"100%\" x=\"0%\" y=\"48px\"><defs /><svg width=\"100%\" x=\"0\" y=\"0px\"><defs /><text text-anchor=\"middle\" x=\"50%\" y=\"16px\">ADJ</text></svg></svg><line stroke=\"black\" x1=\"50%\" x2=\"50%\" y1=\"20px\" y2=\"48px\" /></svg><line stroke=\"black\" x1=\"50%\" x2=\"69.4444%\" y1=\"20px\" y2=\"48px\" /></svg><line stroke=\"black\" x1=\"50%\" x2=\"76.9231%\" y1=\"20px\" y2=\"48px\" /></svg>"
      ],
      "text/plain": [
       "Tree('S', [('João', 'NPROP'), ('comprou', 'V'), ('um', 'ART'), Tree('PADRAO', [('carro', 'N'), ('esportivo', 'ADJ')])])"
      ]
     },
     "execution_count": 103,
     "metadata": {},
     "output_type": "execute_result"
    }
   ],
   "source": [
    "from nltk import RegexpParser\n",
    "\n",
    "text = \"João comprou um carro esportivo\"\n",
    "tokens = nltk.word_tokenize(text)\n",
    "tagged = tagger.tag(tokens)\n",
    "\n",
    "gramatica = r\"\"\"PADRAO: {<N><ADJ>+}\"\"\"\n",
    "analiseGramatical = nltk.RegexpParser(gramatica)\n",
    "analiseGramatical.parse(tagged)"
   ]
  },
  {
   "cell_type": "markdown",
   "id": "57eef61a",
   "metadata": {},
   "source": [
    "# 14. Reconhecimento de Entidade Nomeada (NER)"
   ]
  },
  {
   "cell_type": "markdown",
   "id": "fb237b88",
   "metadata": {},
   "source": [
    "O mesmo erro de SVG acontece no NER. Corrigimos usando RegexpParser importado e print para exibir a árvore."
   ]
  },
  {
   "cell_type": "code",
   "execution_count": 105,
   "id": "ad437027",
   "metadata": {},
   "outputs": [
    {
     "name": "stdout",
     "output_type": "stream",
     "text": [
      "(S\n",
      "  O/ART\n",
      "  ministro/N\n",
      "  (NE Edson/NPROP)\n",
      "  Fachin/N\n",
      "  do/KS\n",
      "  (NE Supremo/NPROP Tribunal/NPROP Federal/NPROP)\n",
      "  determinou/V\n",
      "  a/ART\n",
      "  separação/N\n",
      "  do/KS\n",
      "  inquérito/N\n",
      "  contra/PREP\n",
      "  o/ART\n",
      "  presidente/N\n",
      "  (NE Michel/NPROP Temer/NPROP da/NPROP)\n",
      "  investigação/N\n",
      "  contra/PREP\n",
      "  o/ART\n",
      "  senador/N\n",
      "  afastado/PCP\n",
      "  (NE Aécio/NPROP Neves/NPROP ./NPROP))\n"
     ]
    }
   ],
   "source": [
    "text = (\"O ministro Edson Fachin do Supremo Tribunal Federal \"\n",
    "        \"determinou a separação do inquérito contra o presidente \"\n",
    "        \"Michel Temer da investigação contra o senador afastado Aécio Neves.\")\n",
    "\n",
    "tokens = nltk.word_tokenize(text)\n",
    "tagged = tagger.tag(tokens)\n",
    "\n",
    "\n",
    "\n",
    "# define padrão de entidade nomeada\n",
    "gramatica = r\"\"\"NE: {<NPROP>+}\"\"\"\n",
    "\n",
    "# analiseGramatical = nltk.RegexpParser(gramatica)\n",
    "# analiseGramatical.parse(tagged)\n",
    "parser = RegexpParser(gramatica)\n",
    "print(parser.parse(tagged))\n"
   ]
  },
  {
   "cell_type": "markdown",
   "id": "f4c717c0",
   "metadata": {},
   "source": [
    "## 14.1 Após instalar o svgling"
   ]
  },
  {
   "cell_type": "markdown",
   "id": "e55101ec",
   "metadata": {},
   "source": [
    "Para renderizar a árvore em SVG como no tutorial original, instale o pacote svgling:"
   ]
  },
  {
   "cell_type": "code",
   "execution_count": 106,
   "id": "27d60e31",
   "metadata": {},
   "outputs": [
    {
     "data": {
      "image/svg+xml": [
       "<svg baseProfile=\"full\" height=\"168px\" preserveAspectRatio=\"xMidYMid meet\" style=\"font-family: times, serif; font-weight: normal; font-style: normal; font-size: 16px\" version=\"1.1\" viewBox=\"0,0,1752.0,168.0\" width=\"1752px\" xmlns=\"http://www.w3.org/2000/svg\" xmlns:ev=\"http://www.w3.org/2001/xml-events\" xmlns:xlink=\"http://www.w3.org/1999/xlink\"><defs /><svg width=\"100%\" x=\"0\" y=\"0px\"><defs /><text text-anchor=\"middle\" x=\"50%\" y=\"16px\">S</text></svg><svg width=\"2.28311%\" x=\"0%\" y=\"48px\"><defs /><svg width=\"100%\" x=\"0\" y=\"0px\"><defs /><text text-anchor=\"middle\" x=\"50%\" y=\"16px\">O</text></svg><svg width=\"100%\" x=\"0%\" y=\"48px\"><defs /><svg width=\"100%\" x=\"0\" y=\"0px\"><defs /><text text-anchor=\"middle\" x=\"50%\" y=\"16px\">ART</text></svg></svg><line stroke=\"black\" x1=\"50%\" x2=\"50%\" y1=\"20px\" y2=\"48px\" /></svg><line stroke=\"black\" x1=\"50%\" x2=\"1.14155%\" y1=\"20px\" y2=\"48px\" /><svg width=\"4.56621%\" x=\"2.28311%\" y=\"48px\"><defs /><svg width=\"100%\" x=\"0\" y=\"0px\"><defs /><text text-anchor=\"middle\" x=\"50%\" y=\"16px\">ministro</text></svg><svg width=\"100%\" x=\"0%\" y=\"48px\"><defs /><svg width=\"100%\" x=\"0\" y=\"0px\"><defs /><text text-anchor=\"middle\" x=\"50%\" y=\"16px\">N</text></svg></svg><line stroke=\"black\" x1=\"50%\" x2=\"50%\" y1=\"20px\" y2=\"48px\" /></svg><line stroke=\"black\" x1=\"50%\" x2=\"4.56621%\" y1=\"20px\" y2=\"48px\" /><svg width=\"3.19635%\" x=\"6.84932%\" y=\"48px\"><defs /><svg width=\"100%\" x=\"0\" y=\"0px\"><defs /><text text-anchor=\"middle\" x=\"50%\" y=\"16px\">NE</text></svg><svg width=\"100%\" x=\"0%\" y=\"48px\"><defs /><svg width=\"100%\" x=\"0\" y=\"0px\"><defs /><text text-anchor=\"middle\" x=\"50%\" y=\"16px\">Edson</text></svg><svg width=\"100%\" x=\"0%\" y=\"48px\"><defs /><svg width=\"100%\" x=\"0\" y=\"0px\"><defs /><text text-anchor=\"middle\" x=\"50%\" y=\"16px\">NPROP</text></svg></svg><line stroke=\"black\" x1=\"50%\" x2=\"50%\" y1=\"20px\" y2=\"48px\" /></svg><line stroke=\"black\" x1=\"50%\" x2=\"50%\" y1=\"20px\" y2=\"48px\" /></svg><line stroke=\"black\" x1=\"50%\" x2=\"8.44749%\" y1=\"20px\" y2=\"48px\" /><svg width=\"3.65297%\" x=\"10.0457%\" y=\"48px\"><defs /><svg width=\"100%\" x=\"0\" y=\"0px\"><defs /><text text-anchor=\"middle\" x=\"50%\" y=\"16px\">Fachin</text></svg><svg width=\"100%\" x=\"0%\" y=\"48px\"><defs /><svg width=\"100%\" x=\"0\" y=\"0px\"><defs /><text text-anchor=\"middle\" x=\"50%\" y=\"16px\">N</text></svg></svg><line stroke=\"black\" x1=\"50%\" x2=\"50%\" y1=\"20px\" y2=\"48px\" /></svg><line stroke=\"black\" x1=\"50%\" x2=\"11.8721%\" y1=\"20px\" y2=\"48px\" /><svg width=\"1.82648%\" x=\"13.6986%\" y=\"48px\"><defs /><svg width=\"100%\" x=\"0\" y=\"0px\"><defs /><text text-anchor=\"middle\" x=\"50%\" y=\"16px\">do</text></svg><svg width=\"100%\" x=\"0%\" y=\"48px\"><defs /><svg width=\"100%\" x=\"0\" y=\"0px\"><defs /><text text-anchor=\"middle\" x=\"50%\" y=\"16px\">KS</text></svg></svg><line stroke=\"black\" x1=\"50%\" x2=\"50%\" y1=\"20px\" y2=\"48px\" /></svg><line stroke=\"black\" x1=\"50%\" x2=\"14.6119%\" y1=\"20px\" y2=\"48px\" /><svg width=\"12.7854%\" x=\"15.5251%\" y=\"48px\"><defs /><svg width=\"100%\" x=\"0\" y=\"0px\"><defs /><text text-anchor=\"middle\" x=\"50%\" y=\"16px\">NE</text></svg><svg width=\"32.1429%\" x=\"0%\" y=\"48px\"><defs /><svg width=\"100%\" x=\"0\" y=\"0px\"><defs /><text text-anchor=\"middle\" x=\"50%\" y=\"16px\">Supremo</text></svg><svg width=\"100%\" x=\"0%\" y=\"48px\"><defs /><svg width=\"100%\" x=\"0\" y=\"0px\"><defs /><text text-anchor=\"middle\" x=\"50%\" y=\"16px\">NPROP</text></svg></svg><line stroke=\"black\" x1=\"50%\" x2=\"50%\" y1=\"20px\" y2=\"48px\" /></svg><line stroke=\"black\" x1=\"50%\" x2=\"16.0714%\" y1=\"20px\" y2=\"48px\" /><svg width=\"35.7143%\" x=\"32.1429%\" y=\"48px\"><defs /><svg width=\"100%\" x=\"0\" y=\"0px\"><defs /><text text-anchor=\"middle\" x=\"50%\" y=\"16px\">Tribunal</text></svg><svg width=\"100%\" x=\"0%\" y=\"48px\"><defs /><svg width=\"100%\" x=\"0\" y=\"0px\"><defs /><text text-anchor=\"middle\" x=\"50%\" y=\"16px\">NPROP</text></svg></svg><line stroke=\"black\" x1=\"50%\" x2=\"50%\" y1=\"20px\" y2=\"48px\" /></svg><line stroke=\"black\" x1=\"50%\" x2=\"50%\" y1=\"20px\" y2=\"48px\" /><svg width=\"32.1429%\" x=\"67.8571%\" y=\"48px\"><defs /><svg width=\"100%\" x=\"0\" y=\"0px\"><defs /><text text-anchor=\"middle\" x=\"50%\" y=\"16px\">Federal</text></svg><svg width=\"100%\" x=\"0%\" y=\"48px\"><defs /><svg width=\"100%\" x=\"0\" y=\"0px\"><defs /><text text-anchor=\"middle\" x=\"50%\" y=\"16px\">NPROP</text></svg></svg><line stroke=\"black\" x1=\"50%\" x2=\"50%\" y1=\"20px\" y2=\"48px\" /></svg><line stroke=\"black\" x1=\"50%\" x2=\"83.9286%\" y1=\"20px\" y2=\"48px\" /></svg><line stroke=\"black\" x1=\"50%\" x2=\"21.9178%\" y1=\"20px\" y2=\"48px\" /><svg width=\"5.47945%\" x=\"28.3105%\" y=\"48px\"><defs /><svg width=\"100%\" x=\"0\" y=\"0px\"><defs /><text text-anchor=\"middle\" x=\"50%\" y=\"16px\">determinou</text></svg><svg width=\"100%\" x=\"0%\" y=\"48px\"><defs /><svg width=\"100%\" x=\"0\" y=\"0px\"><defs /><text text-anchor=\"middle\" x=\"50%\" y=\"16px\">V</text></svg></svg><line stroke=\"black\" x1=\"50%\" x2=\"50%\" y1=\"20px\" y2=\"48px\" /></svg><line stroke=\"black\" x1=\"50%\" x2=\"31.0502%\" y1=\"20px\" y2=\"48px\" /><svg width=\"2.28311%\" x=\"33.79%\" y=\"48px\"><defs /><svg width=\"100%\" x=\"0\" y=\"0px\"><defs /><text text-anchor=\"middle\" x=\"50%\" y=\"16px\">a</text></svg><svg width=\"100%\" x=\"0%\" y=\"48px\"><defs /><svg width=\"100%\" x=\"0\" y=\"0px\"><defs /><text text-anchor=\"middle\" x=\"50%\" y=\"16px\">ART</text></svg></svg><line stroke=\"black\" x1=\"50%\" x2=\"50%\" y1=\"20px\" y2=\"48px\" /></svg><line stroke=\"black\" x1=\"50%\" x2=\"34.9315%\" y1=\"20px\" y2=\"48px\" /><svg width=\"5.02283%\" x=\"36.0731%\" y=\"48px\"><defs /><svg width=\"100%\" x=\"0\" y=\"0px\"><defs /><text text-anchor=\"middle\" x=\"50%\" y=\"16px\">separação</text></svg><svg width=\"100%\" x=\"0%\" y=\"48px\"><defs /><svg width=\"100%\" x=\"0\" y=\"0px\"><defs /><text text-anchor=\"middle\" x=\"50%\" y=\"16px\">N</text></svg></svg><line stroke=\"black\" x1=\"50%\" x2=\"50%\" y1=\"20px\" y2=\"48px\" /></svg><line stroke=\"black\" x1=\"50%\" x2=\"38.5845%\" y1=\"20px\" y2=\"48px\" /><svg width=\"1.82648%\" x=\"41.0959%\" y=\"48px\"><defs /><svg width=\"100%\" x=\"0\" y=\"0px\"><defs /><text text-anchor=\"middle\" x=\"50%\" y=\"16px\">do</text></svg><svg width=\"100%\" x=\"0%\" y=\"48px\"><defs /><svg width=\"100%\" x=\"0\" y=\"0px\"><defs /><text text-anchor=\"middle\" x=\"50%\" y=\"16px\">KS</text></svg></svg><line stroke=\"black\" x1=\"50%\" x2=\"50%\" y1=\"20px\" y2=\"48px\" /></svg><line stroke=\"black\" x1=\"50%\" x2=\"42.0091%\" y1=\"20px\" y2=\"48px\" /><svg width=\"5.02283%\" x=\"42.9224%\" y=\"48px\"><defs /><svg width=\"100%\" x=\"0\" y=\"0px\"><defs /><text text-anchor=\"middle\" x=\"50%\" y=\"16px\">inquérito</text></svg><svg width=\"100%\" x=\"0%\" y=\"48px\"><defs /><svg width=\"100%\" x=\"0\" y=\"0px\"><defs /><text text-anchor=\"middle\" x=\"50%\" y=\"16px\">N</text></svg></svg><line stroke=\"black\" x1=\"50%\" x2=\"50%\" y1=\"20px\" y2=\"48px\" /></svg><line stroke=\"black\" x1=\"50%\" x2=\"45.4338%\" y1=\"20px\" y2=\"48px\" /><svg width=\"3.65297%\" x=\"47.9452%\" y=\"48px\"><defs /><svg width=\"100%\" x=\"0\" y=\"0px\"><defs /><text text-anchor=\"middle\" x=\"50%\" y=\"16px\">contra</text></svg><svg width=\"100%\" x=\"0%\" y=\"48px\"><defs /><svg width=\"100%\" x=\"0\" y=\"0px\"><defs /><text text-anchor=\"middle\" x=\"50%\" y=\"16px\">PREP</text></svg></svg><line stroke=\"black\" x1=\"50%\" x2=\"50%\" y1=\"20px\" y2=\"48px\" /></svg><line stroke=\"black\" x1=\"50%\" x2=\"49.7717%\" y1=\"20px\" y2=\"48px\" /><svg width=\"2.28311%\" x=\"51.5982%\" y=\"48px\"><defs /><svg width=\"100%\" x=\"0\" y=\"0px\"><defs /><text text-anchor=\"middle\" x=\"50%\" y=\"16px\">o</text></svg><svg width=\"100%\" x=\"0%\" y=\"48px\"><defs /><svg width=\"100%\" x=\"0\" y=\"0px\"><defs /><text text-anchor=\"middle\" x=\"50%\" y=\"16px\">ART</text></svg></svg><line stroke=\"black\" x1=\"50%\" x2=\"50%\" y1=\"20px\" y2=\"48px\" /></svg><line stroke=\"black\" x1=\"50%\" x2=\"52.7397%\" y1=\"20px\" y2=\"48px\" /><svg width=\"5.47945%\" x=\"53.8813%\" y=\"48px\"><defs /><svg width=\"100%\" x=\"0\" y=\"0px\"><defs /><text text-anchor=\"middle\" x=\"50%\" y=\"16px\">presidente</text></svg><svg width=\"100%\" x=\"0%\" y=\"48px\"><defs /><svg width=\"100%\" x=\"0\" y=\"0px\"><defs /><text text-anchor=\"middle\" x=\"50%\" y=\"16px\">N</text></svg></svg><line stroke=\"black\" x1=\"50%\" x2=\"50%\" y1=\"20px\" y2=\"48px\" /></svg><line stroke=\"black\" x1=\"50%\" x2=\"56.621%\" y1=\"20px\" y2=\"48px\" /><svg width=\"10.0457%\" x=\"59.3607%\" y=\"48px\"><defs /><svg width=\"100%\" x=\"0\" y=\"0px\"><defs /><text text-anchor=\"middle\" x=\"50%\" y=\"16px\">NE</text></svg><svg width=\"36.3636%\" x=\"0%\" y=\"48px\"><defs /><svg width=\"100%\" x=\"0\" y=\"0px\"><defs /><text text-anchor=\"middle\" x=\"50%\" y=\"16px\">Michel</text></svg><svg width=\"100%\" x=\"0%\" y=\"48px\"><defs /><svg width=\"100%\" x=\"0\" y=\"0px\"><defs /><text text-anchor=\"middle\" x=\"50%\" y=\"16px\">NPROP</text></svg></svg><line stroke=\"black\" x1=\"50%\" x2=\"50%\" y1=\"20px\" y2=\"48px\" /></svg><line stroke=\"black\" x1=\"50%\" x2=\"18.1818%\" y1=\"20px\" y2=\"48px\" /><svg width=\"31.8182%\" x=\"36.3636%\" y=\"48px\"><defs /><svg width=\"100%\" x=\"0\" y=\"0px\"><defs /><text text-anchor=\"middle\" x=\"50%\" y=\"16px\">Temer</text></svg><svg width=\"100%\" x=\"0%\" y=\"48px\"><defs /><svg width=\"100%\" x=\"0\" y=\"0px\"><defs /><text text-anchor=\"middle\" x=\"50%\" y=\"16px\">NPROP</text></svg></svg><line stroke=\"black\" x1=\"50%\" x2=\"50%\" y1=\"20px\" y2=\"48px\" /></svg><line stroke=\"black\" x1=\"50%\" x2=\"52.2727%\" y1=\"20px\" y2=\"48px\" /><svg width=\"31.8182%\" x=\"68.1818%\" y=\"48px\"><defs /><svg width=\"100%\" x=\"0\" y=\"0px\"><defs /><text text-anchor=\"middle\" x=\"50%\" y=\"16px\">da</text></svg><svg width=\"100%\" x=\"0%\" y=\"48px\"><defs /><svg width=\"100%\" x=\"0\" y=\"0px\"><defs /><text text-anchor=\"middle\" x=\"50%\" y=\"16px\">NPROP</text></svg></svg><line stroke=\"black\" x1=\"50%\" x2=\"50%\" y1=\"20px\" y2=\"48px\" /></svg><line stroke=\"black\" x1=\"50%\" x2=\"84.0909%\" y1=\"20px\" y2=\"48px\" /></svg><line stroke=\"black\" x1=\"50%\" x2=\"64.3836%\" y1=\"20px\" y2=\"48px\" /><svg width=\"6.39269%\" x=\"69.4064%\" y=\"48px\"><defs /><svg width=\"100%\" x=\"0\" y=\"0px\"><defs /><text text-anchor=\"middle\" x=\"50%\" y=\"16px\">investigação</text></svg><svg width=\"100%\" x=\"0%\" y=\"48px\"><defs /><svg width=\"100%\" x=\"0\" y=\"0px\"><defs /><text text-anchor=\"middle\" x=\"50%\" y=\"16px\">N</text></svg></svg><line stroke=\"black\" x1=\"50%\" x2=\"50%\" y1=\"20px\" y2=\"48px\" /></svg><line stroke=\"black\" x1=\"50%\" x2=\"72.6027%\" y1=\"20px\" y2=\"48px\" /><svg width=\"3.65297%\" x=\"75.7991%\" y=\"48px\"><defs /><svg width=\"100%\" x=\"0\" y=\"0px\"><defs /><text text-anchor=\"middle\" x=\"50%\" y=\"16px\">contra</text></svg><svg width=\"100%\" x=\"0%\" y=\"48px\"><defs /><svg width=\"100%\" x=\"0\" y=\"0px\"><defs /><text text-anchor=\"middle\" x=\"50%\" y=\"16px\">PREP</text></svg></svg><line stroke=\"black\" x1=\"50%\" x2=\"50%\" y1=\"20px\" y2=\"48px\" /></svg><line stroke=\"black\" x1=\"50%\" x2=\"77.6256%\" y1=\"20px\" y2=\"48px\" /><svg width=\"2.28311%\" x=\"79.4521%\" y=\"48px\"><defs /><svg width=\"100%\" x=\"0\" y=\"0px\"><defs /><text text-anchor=\"middle\" x=\"50%\" y=\"16px\">o</text></svg><svg width=\"100%\" x=\"0%\" y=\"48px\"><defs /><svg width=\"100%\" x=\"0\" y=\"0px\"><defs /><text text-anchor=\"middle\" x=\"50%\" y=\"16px\">ART</text></svg></svg><line stroke=\"black\" x1=\"50%\" x2=\"50%\" y1=\"20px\" y2=\"48px\" /></svg><line stroke=\"black\" x1=\"50%\" x2=\"80.5936%\" y1=\"20px\" y2=\"48px\" /><svg width=\"4.10959%\" x=\"81.7352%\" y=\"48px\"><defs /><svg width=\"100%\" x=\"0\" y=\"0px\"><defs /><text text-anchor=\"middle\" x=\"50%\" y=\"16px\">senador</text></svg><svg width=\"100%\" x=\"0%\" y=\"48px\"><defs /><svg width=\"100%\" x=\"0\" y=\"0px\"><defs /><text text-anchor=\"middle\" x=\"50%\" y=\"16px\">N</text></svg></svg><line stroke=\"black\" x1=\"50%\" x2=\"50%\" y1=\"20px\" y2=\"48px\" /></svg><line stroke=\"black\" x1=\"50%\" x2=\"83.79%\" y1=\"20px\" y2=\"48px\" /><svg width=\"4.56621%\" x=\"85.8447%\" y=\"48px\"><defs /><svg width=\"100%\" x=\"0\" y=\"0px\"><defs /><text text-anchor=\"middle\" x=\"50%\" y=\"16px\">afastado</text></svg><svg width=\"100%\" x=\"0%\" y=\"48px\"><defs /><svg width=\"100%\" x=\"0\" y=\"0px\"><defs /><text text-anchor=\"middle\" x=\"50%\" y=\"16px\">PCP</text></svg></svg><line stroke=\"black\" x1=\"50%\" x2=\"50%\" y1=\"20px\" y2=\"48px\" /></svg><line stroke=\"black\" x1=\"50%\" x2=\"88.1279%\" y1=\"20px\" y2=\"48px\" /><svg width=\"9.58904%\" x=\"90.411%\" y=\"48px\"><defs /><svg width=\"100%\" x=\"0\" y=\"0px\"><defs /><text text-anchor=\"middle\" x=\"50%\" y=\"16px\">NE</text></svg><svg width=\"33.3333%\" x=\"0%\" y=\"48px\"><defs /><svg width=\"100%\" x=\"0\" y=\"0px\"><defs /><text text-anchor=\"middle\" x=\"50%\" y=\"16px\">Aécio</text></svg><svg width=\"100%\" x=\"0%\" y=\"48px\"><defs /><svg width=\"100%\" x=\"0\" y=\"0px\"><defs /><text text-anchor=\"middle\" x=\"50%\" y=\"16px\">NPROP</text></svg></svg><line stroke=\"black\" x1=\"50%\" x2=\"50%\" y1=\"20px\" y2=\"48px\" /></svg><line stroke=\"black\" x1=\"50%\" x2=\"16.6667%\" y1=\"20px\" y2=\"48px\" /><svg width=\"33.3333%\" x=\"33.3333%\" y=\"48px\"><defs /><svg width=\"100%\" x=\"0\" y=\"0px\"><defs /><text text-anchor=\"middle\" x=\"50%\" y=\"16px\">Neves</text></svg><svg width=\"100%\" x=\"0%\" y=\"48px\"><defs /><svg width=\"100%\" x=\"0\" y=\"0px\"><defs /><text text-anchor=\"middle\" x=\"50%\" y=\"16px\">NPROP</text></svg></svg><line stroke=\"black\" x1=\"50%\" x2=\"50%\" y1=\"20px\" y2=\"48px\" /></svg><line stroke=\"black\" x1=\"50%\" x2=\"50%\" y1=\"20px\" y2=\"48px\" /><svg width=\"33.3333%\" x=\"66.6667%\" y=\"48px\"><defs /><svg width=\"100%\" x=\"0\" y=\"0px\"><defs /><text text-anchor=\"middle\" x=\"50%\" y=\"16px\">.</text></svg><svg width=\"100%\" x=\"0%\" y=\"48px\"><defs /><svg width=\"100%\" x=\"0\" y=\"0px\"><defs /><text text-anchor=\"middle\" x=\"50%\" y=\"16px\">NPROP</text></svg></svg><line stroke=\"black\" x1=\"50%\" x2=\"50%\" y1=\"20px\" y2=\"48px\" /></svg><line stroke=\"black\" x1=\"50%\" x2=\"83.3333%\" y1=\"20px\" y2=\"48px\" /></svg><line stroke=\"black\" x1=\"50%\" x2=\"95.2055%\" y1=\"20px\" y2=\"48px\" /></svg>"
      ],
      "text/plain": [
       "Tree('S', [('O', 'ART'), ('ministro', 'N'), Tree('NE', [('Edson', 'NPROP')]), ('Fachin', 'N'), ('do', 'KS'), Tree('NE', [('Supremo', 'NPROP'), ('Tribunal', 'NPROP'), ('Federal', 'NPROP')]), ('determinou', 'V'), ('a', 'ART'), ('separação', 'N'), ('do', 'KS'), ('inquérito', 'N'), ('contra', 'PREP'), ('o', 'ART'), ('presidente', 'N'), Tree('NE', [('Michel', 'NPROP'), ('Temer', 'NPROP'), ('da', 'NPROP')]), ('investigação', 'N'), ('contra', 'PREP'), ('o', 'ART'), ('senador', 'N'), ('afastado', 'PCP'), Tree('NE', [('Aécio', 'NPROP'), ('Neves', 'NPROP'), ('.', 'NPROP')])])"
      ]
     },
     "execution_count": 106,
     "metadata": {},
     "output_type": "execute_result"
    }
   ],
   "source": [
    "from nltk import RegexpParser\n",
    "\n",
    "text = (\n",
    "    \"O ministro Edson Fachin do Supremo Tribunal Federal \"\n",
    "    \"determinou a separação do inquérito contra o presidente \"\n",
    "    \"Michel Temer da investigação contra o senador afastado Aécio Neves.\"\n",
    ")\n",
    "\n",
    "tokens = nltk.word_tokenize(text)\n",
    "tagged = tagger.tag(tokens)\n",
    "\n",
    "gramatica = r\"\"\"NE: {<NPROP>+}\"\"\"\n",
    "analiseGramatical = nltk.RegexpParser(gramatica)\n",
    "analiseGramatical.parse(tagged)"
   ]
  },
  {
   "cell_type": "markdown",
   "id": "195313f2",
   "metadata": {},
   "source": [
    "# Extração de Relações"
   ]
  },
  {
   "cell_type": "markdown",
   "id": "d9302f2b",
   "metadata": {},
   "source": [
    "No código original do tutorial, há um erro de digitação e uso de variável errada (analise em vez de analiseGramatical, e pase em vez de parse), resultando em NameError. Corrigimos instanciando o RegexpParser como parser e chamando print(parser.parse(...))."
   ]
  },
  {
   "cell_type": "code",
   "execution_count": null,
   "id": "d6dd36ce",
   "metadata": {},
   "outputs": [
    {
     "name": "stdout",
     "output_type": "stream",
     "text": [
      "(S\n",
      "  A/ART\n",
      "  estátua/N\n",
      "  foi/VAUX\n",
      "  criada/PCP\n",
      "  pelo/PDEN\n",
      "  escultor/N\n",
      "  (REL\n",
      "    (NE George/NPROP Silva/NPROP)\n",
      "    ,/,\n",
      "    que/PRO-KS-REL\n",
      "    nasceu/V\n",
      "    na/PREP|+\n",
      "    (NE Romênia/NPROP)))\n"
     ]
    }
   ],
   "source": [
    "text = 'A estátua foi criada pelo escultor George Silva, que nasceu na Romênia'\n",
    "\n",
    "tokens = nltk.word_tokenize(text)\n",
    "tagged = tagger.tag(tokens)\n",
    "\n",
    "# define entidades (NE) e relação (REL)\n",
    "gramatica = r\"\"\"NE: {<NPROP>+}\n",
    "                REL: {<NE> <.*>* <PREP.*> <.*>* <NE>}\"\"\"\n",
    "                \n",
    "                \n",
    "# analiseGramatical = RegexpParser(gramatica)\n",
    "# analise.pase(tagged)\n",
    "parser = RegexpParser(gramatica)\n",
    "print(parser.parse(tagged))\n"
   ]
  },
  {
   "cell_type": "code",
   "execution_count": 107,
   "id": "37545cfb",
   "metadata": {},
   "outputs": [
    {
     "data": {
      "image/svg+xml": [
       "<svg baseProfile=\"full\" height=\"216px\" preserveAspectRatio=\"xMidYMid meet\" style=\"font-family: times, serif; font-weight: normal; font-style: normal; font-size: 16px\" version=\"1.1\" viewBox=\"0,0,792.0,216.0\" width=\"792px\" xmlns=\"http://www.w3.org/2000/svg\" xmlns:ev=\"http://www.w3.org/2001/xml-events\" xmlns:xlink=\"http://www.w3.org/1999/xlink\"><defs /><svg width=\"100%\" x=\"0\" y=\"0px\"><defs /><text text-anchor=\"middle\" x=\"50%\" y=\"16px\">S</text></svg><svg width=\"5.05051%\" x=\"0%\" y=\"48px\"><defs /><svg width=\"100%\" x=\"0\" y=\"0px\"><defs /><text text-anchor=\"middle\" x=\"50%\" y=\"16px\">A</text></svg><svg width=\"100%\" x=\"0%\" y=\"48px\"><defs /><svg width=\"100%\" x=\"0\" y=\"0px\"><defs /><text text-anchor=\"middle\" x=\"50%\" y=\"16px\">ART</text></svg></svg><line stroke=\"black\" x1=\"50%\" x2=\"50%\" y1=\"20px\" y2=\"48px\" /></svg><line stroke=\"black\" x1=\"50%\" x2=\"2.52525%\" y1=\"20px\" y2=\"48px\" /><svg width=\"9.09091%\" x=\"5.05051%\" y=\"48px\"><defs /><svg width=\"100%\" x=\"0\" y=\"0px\"><defs /><text text-anchor=\"middle\" x=\"50%\" y=\"16px\">estátua</text></svg><svg width=\"100%\" x=\"0%\" y=\"48px\"><defs /><svg width=\"100%\" x=\"0\" y=\"0px\"><defs /><text text-anchor=\"middle\" x=\"50%\" y=\"16px\">N</text></svg></svg><line stroke=\"black\" x1=\"50%\" x2=\"50%\" y1=\"20px\" y2=\"48px\" /></svg><line stroke=\"black\" x1=\"50%\" x2=\"9.59596%\" y1=\"20px\" y2=\"48px\" /><svg width=\"6.06061%\" x=\"14.1414%\" y=\"48px\"><defs /><svg width=\"100%\" x=\"0\" y=\"0px\"><defs /><text text-anchor=\"middle\" x=\"50%\" y=\"16px\">foi</text></svg><svg width=\"100%\" x=\"0%\" y=\"48px\"><defs /><svg width=\"100%\" x=\"0\" y=\"0px\"><defs /><text text-anchor=\"middle\" x=\"50%\" y=\"16px\">VAUX</text></svg></svg><line stroke=\"black\" x1=\"50%\" x2=\"50%\" y1=\"20px\" y2=\"48px\" /></svg><line stroke=\"black\" x1=\"50%\" x2=\"17.1717%\" y1=\"20px\" y2=\"48px\" /><svg width=\"8.08081%\" x=\"20.202%\" y=\"48px\"><defs /><svg width=\"100%\" x=\"0\" y=\"0px\"><defs /><text text-anchor=\"middle\" x=\"50%\" y=\"16px\">criada</text></svg><svg width=\"100%\" x=\"0%\" y=\"48px\"><defs /><svg width=\"100%\" x=\"0\" y=\"0px\"><defs /><text text-anchor=\"middle\" x=\"50%\" y=\"16px\">PCP</text></svg></svg><line stroke=\"black\" x1=\"50%\" x2=\"50%\" y1=\"20px\" y2=\"48px\" /></svg><line stroke=\"black\" x1=\"50%\" x2=\"24.2424%\" y1=\"20px\" y2=\"48px\" /><svg width=\"6.06061%\" x=\"28.2828%\" y=\"48px\"><defs /><svg width=\"100%\" x=\"0\" y=\"0px\"><defs /><text text-anchor=\"middle\" x=\"50%\" y=\"16px\">pelo</text></svg><svg width=\"100%\" x=\"0%\" y=\"48px\"><defs /><svg width=\"100%\" x=\"0\" y=\"0px\"><defs /><text text-anchor=\"middle\" x=\"50%\" y=\"16px\">PDEN</text></svg></svg><line stroke=\"black\" x1=\"50%\" x2=\"50%\" y1=\"20px\" y2=\"48px\" /></svg><line stroke=\"black\" x1=\"50%\" x2=\"31.3131%\" y1=\"20px\" y2=\"48px\" /><svg width=\"10.101%\" x=\"34.3434%\" y=\"48px\"><defs /><svg width=\"100%\" x=\"0\" y=\"0px\"><defs /><text text-anchor=\"middle\" x=\"50%\" y=\"16px\">escultor</text></svg><svg width=\"100%\" x=\"0%\" y=\"48px\"><defs /><svg width=\"100%\" x=\"0\" y=\"0px\"><defs /><text text-anchor=\"middle\" x=\"50%\" y=\"16px\">N</text></svg></svg><line stroke=\"black\" x1=\"50%\" x2=\"50%\" y1=\"20px\" y2=\"48px\" /></svg><line stroke=\"black\" x1=\"50%\" x2=\"39.3939%\" y1=\"20px\" y2=\"48px\" /><svg width=\"55.5556%\" x=\"44.4444%\" y=\"48px\"><defs /><svg width=\"100%\" x=\"0\" y=\"0px\"><defs /><text text-anchor=\"middle\" x=\"50%\" y=\"16px\">REL</text></svg><svg width=\"27.2727%\" x=\"0%\" y=\"48px\"><defs /><svg width=\"100%\" x=\"0\" y=\"0px\"><defs /><text text-anchor=\"middle\" x=\"50%\" y=\"16px\">NE</text></svg><svg width=\"53.3333%\" x=\"0%\" y=\"48px\"><defs /><svg width=\"100%\" x=\"0\" y=\"0px\"><defs /><text text-anchor=\"middle\" x=\"50%\" y=\"16px\">George</text></svg><svg width=\"100%\" x=\"0%\" y=\"48px\"><defs /><svg width=\"100%\" x=\"0\" y=\"0px\"><defs /><text text-anchor=\"middle\" x=\"50%\" y=\"16px\">NPROP</text></svg></svg><line stroke=\"black\" x1=\"50%\" x2=\"50%\" y1=\"20px\" y2=\"48px\" /></svg><line stroke=\"black\" x1=\"50%\" x2=\"26.6667%\" y1=\"20px\" y2=\"48px\" /><svg width=\"46.6667%\" x=\"53.3333%\" y=\"48px\"><defs /><svg width=\"100%\" x=\"0\" y=\"0px\"><defs /><text text-anchor=\"middle\" x=\"50%\" y=\"16px\">Silva</text></svg><svg width=\"100%\" x=\"0%\" y=\"48px\"><defs /><svg width=\"100%\" x=\"0\" y=\"0px\"><defs /><text text-anchor=\"middle\" x=\"50%\" y=\"16px\">NPROP</text></svg></svg><line stroke=\"black\" x1=\"50%\" x2=\"50%\" y1=\"20px\" y2=\"48px\" /></svg><line stroke=\"black\" x1=\"50%\" x2=\"76.6667%\" y1=\"20px\" y2=\"48px\" /></svg><line stroke=\"black\" x1=\"50%\" x2=\"13.6364%\" y1=\"20px\" y2=\"48px\" /><svg width=\"5.45455%\" x=\"27.2727%\" y=\"48px\"><defs /><svg width=\"100%\" x=\"0\" y=\"0px\"><defs /><text text-anchor=\"middle\" x=\"50%\" y=\"16px\">,</text></svg><svg width=\"100%\" x=\"0%\" y=\"48px\"><defs /><svg width=\"100%\" x=\"0\" y=\"0px\"><defs /><text text-anchor=\"middle\" x=\"50%\" y=\"16px\">,</text></svg></svg><line stroke=\"black\" x1=\"50%\" x2=\"50%\" y1=\"20px\" y2=\"48px\" /></svg><line stroke=\"black\" x1=\"50%\" x2=\"30%\" y1=\"20px\" y2=\"48px\" /><svg width=\"21.8182%\" x=\"32.7273%\" y=\"48px\"><defs /><svg width=\"100%\" x=\"0\" y=\"0px\"><defs /><text text-anchor=\"middle\" x=\"50%\" y=\"16px\">que</text></svg><svg width=\"100%\" x=\"0%\" y=\"48px\"><defs /><svg width=\"100%\" x=\"0\" y=\"0px\"><defs /><text text-anchor=\"middle\" x=\"50%\" y=\"16px\">PRO-KS-REL</text></svg></svg><line stroke=\"black\" x1=\"50%\" x2=\"50%\" y1=\"20px\" y2=\"48px\" /></svg><line stroke=\"black\" x1=\"50%\" x2=\"43.6364%\" y1=\"20px\" y2=\"48px\" /><svg width=\"14.5455%\" x=\"54.5455%\" y=\"48px\"><defs /><svg width=\"100%\" x=\"0\" y=\"0px\"><defs /><text text-anchor=\"middle\" x=\"50%\" y=\"16px\">nasceu</text></svg><svg width=\"100%\" x=\"0%\" y=\"48px\"><defs /><svg width=\"100%\" x=\"0\" y=\"0px\"><defs /><text text-anchor=\"middle\" x=\"50%\" y=\"16px\">V</text></svg></svg><line stroke=\"black\" x1=\"50%\" x2=\"50%\" y1=\"20px\" y2=\"48px\" /></svg><line stroke=\"black\" x1=\"50%\" x2=\"61.8182%\" y1=\"20px\" y2=\"48px\" /><svg width=\"14.5455%\" x=\"69.0909%\" y=\"48px\"><defs /><svg width=\"100%\" x=\"0\" y=\"0px\"><defs /><text text-anchor=\"middle\" x=\"50%\" y=\"16px\">na</text></svg><svg width=\"100%\" x=\"0%\" y=\"48px\"><defs /><svg width=\"100%\" x=\"0\" y=\"0px\"><defs /><text text-anchor=\"middle\" x=\"50%\" y=\"16px\">PREP|+</text></svg></svg><line stroke=\"black\" x1=\"50%\" x2=\"50%\" y1=\"20px\" y2=\"48px\" /></svg><line stroke=\"black\" x1=\"50%\" x2=\"76.3636%\" y1=\"20px\" y2=\"48px\" /><svg width=\"16.3636%\" x=\"83.6364%\" y=\"48px\"><defs /><svg width=\"100%\" x=\"0\" y=\"0px\"><defs /><text text-anchor=\"middle\" x=\"50%\" y=\"16px\">NE</text></svg><svg width=\"100%\" x=\"0%\" y=\"48px\"><defs /><svg width=\"100%\" x=\"0\" y=\"0px\"><defs /><text text-anchor=\"middle\" x=\"50%\" y=\"16px\">Romênia</text></svg><svg width=\"100%\" x=\"0%\" y=\"48px\"><defs /><svg width=\"100%\" x=\"0\" y=\"0px\"><defs /><text text-anchor=\"middle\" x=\"50%\" y=\"16px\">NPROP</text></svg></svg><line stroke=\"black\" x1=\"50%\" x2=\"50%\" y1=\"20px\" y2=\"48px\" /></svg><line stroke=\"black\" x1=\"50%\" x2=\"50%\" y1=\"20px\" y2=\"48px\" /></svg><line stroke=\"black\" x1=\"50%\" x2=\"91.8182%\" y1=\"20px\" y2=\"48px\" /></svg><line stroke=\"black\" x1=\"50%\" x2=\"72.2222%\" y1=\"20px\" y2=\"48px\" /></svg>"
      ],
      "text/plain": [
       "Tree('S', [('A', 'ART'), ('estátua', 'N'), ('foi', 'VAUX'), ('criada', 'PCP'), ('pelo', 'PDEN'), ('escultor', 'N'), Tree('REL', [Tree('NE', [('George', 'NPROP'), ('Silva', 'NPROP')]), (',', ','), ('que', 'PRO-KS-REL'), ('nasceu', 'V'), ('na', 'PREP|+'), Tree('NE', [('Romênia', 'NPROP')])])])"
      ]
     },
     "execution_count": 107,
     "metadata": {},
     "output_type": "execute_result"
    }
   ],
   "source": [
    "from nltk import RegexpParser\n",
    "\n",
    "text = 'A estátua foi criada pelo escultor George Silva, que nasceu na Romênia'\n",
    "\n",
    "tokens = nltk.word_tokenize(text)\n",
    "tagged = tagger.tag(tokens)\n",
    "gramatica = r\"\"\"\n",
    "NE: {<NPROP>+}\n",
    "REL: {<NE> <.*>* <PREP.*> <.*>* <NE>}\n",
    "\"\"\"\n",
    "analiseGramatical = RegexpParser(gramatica)\n",
    "analiseGramatical.parse(tagged)"
   ]
  }
 ],
 "metadata": {
  "kernelspec": {
   "display_name": "Python 3",
   "language": "python",
   "name": "python3"
  },
  "language_info": {
   "codemirror_mode": {
    "name": "ipython",
    "version": 3
   },
   "file_extension": ".py",
   "mimetype": "text/x-python",
   "name": "python",
   "nbconvert_exporter": "python",
   "pygments_lexer": "ipython3",
   "version": "3.12.4"
  }
 },
 "nbformat": 4,
 "nbformat_minor": 5
}
